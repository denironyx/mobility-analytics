{
 "metadata": {
  "language_info": {
   "codemirror_mode": {
    "name": "ipython",
    "version": 3
   },
   "file_extension": ".py",
   "mimetype": "text/x-python",
   "name": "python",
   "nbconvert_exporter": "python",
   "pygments_lexer": "ipython3",
   "version": "3.9.5"
  },
  "orig_nbformat": 2,
  "kernelspec": {
   "name": "python395jvsc74a57bd063fd5069d213b44bf678585dea6b12cceca9941eaf7f819626cde1f2670de90d",
   "display_name": "Python 3.9.5 64-bit"
  }
 },
 "nbformat": 4,
 "nbformat_minor": 2,
 "cells": [
  {
   "source": [
    "## Project Geospatial Developer Part 2"
   ],
   "cell_type": "markdown",
   "metadata": {}
  },
  {
   "cell_type": "code",
   "execution_count": 1,
   "metadata": {},
   "outputs": [],
   "source": [
    "import gtfs_functions as gtfs"
   ]
  },
  {
   "source": [
    "## Manipulating linestrings with the gtfs_functions module\n",
    "\n",
    "The function import_gtfs from the gtfs_functions takes the path or the zip file as argument and returns the routes, stops, stop_times, trips and shapes dataframes/geodataframes."
   ],
   "cell_type": "markdown",
   "metadata": {}
  },
  {
   "cell_type": "code",
   "execution_count": 2,
   "metadata": {},
   "outputs": [],
   "source": [
    "routes, stops, stop_times, trips, shapes = gtfs.import_gtfs('gtfs.zip')"
   ]
  },
  {
   "cell_type": "code",
   "execution_count": 3,
   "metadata": {},
   "outputs": [
    {
     "output_type": "execute_result",
     "data": {
      "text/plain": [
       "        route_id agency_id route_short_name  \\\n",
       "0   11-WLB-j20-1        03              WLB   \n",
       "1    21-U1-j20-1        04               U1   \n",
       "2  21-U1-Y-j20-1        04               U1   \n",
       "3    21-U2-j20-1        04               U2   \n",
       "4  21-U2-Y-j20-1        04               U2   \n",
       "\n",
       "                                     route_long_name  route_type route_color  \\\n",
       "0  Wien Oper - Wiener Neudorf - Guntramsdorf - Tr...           0      0A295D   \n",
       "1                   Oberlaa - Leopldau bis 17.3.2020           1      E3000F   \n",
       "2             Oberlaa - Leopldau gültig ab 16.5.2020           1         NaN   \n",
       "3                Seestadt - Karlsplatz bis 17.3.2020           1      A862A4   \n",
       "4          Seestadt - Karlsplatz gültig ab 16.5.2020           1         NaN   \n",
       "\n",
       "  route_text_color  \n",
       "0           FFFFFF  \n",
       "1           FFFFFF  \n",
       "2              NaN  \n",
       "3           FFFFFF  \n",
       "4              NaN  "
      ],
      "text/html": "<div>\n<style scoped>\n    .dataframe tbody tr th:only-of-type {\n        vertical-align: middle;\n    }\n\n    .dataframe tbody tr th {\n        vertical-align: top;\n    }\n\n    .dataframe thead th {\n        text-align: right;\n    }\n</style>\n<table border=\"1\" class=\"dataframe\">\n  <thead>\n    <tr style=\"text-align: right;\">\n      <th></th>\n      <th>route_id</th>\n      <th>agency_id</th>\n      <th>route_short_name</th>\n      <th>route_long_name</th>\n      <th>route_type</th>\n      <th>route_color</th>\n      <th>route_text_color</th>\n    </tr>\n  </thead>\n  <tbody>\n    <tr>\n      <th>0</th>\n      <td>11-WLB-j20-1</td>\n      <td>03</td>\n      <td>WLB</td>\n      <td>Wien Oper - Wiener Neudorf - Guntramsdorf - Tr...</td>\n      <td>0</td>\n      <td>0A295D</td>\n      <td>FFFFFF</td>\n    </tr>\n    <tr>\n      <th>1</th>\n      <td>21-U1-j20-1</td>\n      <td>04</td>\n      <td>U1</td>\n      <td>Oberlaa - Leopldau bis 17.3.2020</td>\n      <td>1</td>\n      <td>E3000F</td>\n      <td>FFFFFF</td>\n    </tr>\n    <tr>\n      <th>2</th>\n      <td>21-U1-Y-j20-1</td>\n      <td>04</td>\n      <td>U1</td>\n      <td>Oberlaa - Leopldau gültig ab 16.5.2020</td>\n      <td>1</td>\n      <td>NaN</td>\n      <td>NaN</td>\n    </tr>\n    <tr>\n      <th>3</th>\n      <td>21-U2-j20-1</td>\n      <td>04</td>\n      <td>U2</td>\n      <td>Seestadt - Karlsplatz bis 17.3.2020</td>\n      <td>1</td>\n      <td>A862A4</td>\n      <td>FFFFFF</td>\n    </tr>\n    <tr>\n      <th>4</th>\n      <td>21-U2-Y-j20-1</td>\n      <td>04</td>\n      <td>U2</td>\n      <td>Seestadt - Karlsplatz gültig ab 16.5.2020</td>\n      <td>1</td>\n      <td>NaN</td>\n      <td>NaN</td>\n    </tr>\n  </tbody>\n</table>\n</div>"
     },
     "metadata": {},
     "execution_count": 3
    }
   ],
   "source": [
    "routes.head()"
   ]
  },
  {
   "cell_type": "code",
   "execution_count": 4,
   "metadata": {},
   "outputs": [
    {
     "output_type": "execute_result",
     "data": {
      "text/plain": [
       "          stop_id          stop_name                   geometry\n",
       "0  at:43:3121:0:1  Baden Josefsplatz  POINT (16.23370 48.00595)\n",
       "1  at:43:3134:0:1      Baden Viadukt  POINT (16.24097 48.00384)\n",
       "2  at:43:3134:0:2      Baden Viadukt  POINT (16.24091 48.00373)\n",
       "3  at:43:3142:0:3     Baden Leesdorf  POINT (16.25161 47.99951)\n",
       "4  at:43:3142:0:4     Baden Leesdorf  POINT (16.25165 47.99956)"
      ],
      "text/html": "<div>\n<style scoped>\n    .dataframe tbody tr th:only-of-type {\n        vertical-align: middle;\n    }\n\n    .dataframe tbody tr th {\n        vertical-align: top;\n    }\n\n    .dataframe thead th {\n        text-align: right;\n    }\n</style>\n<table border=\"1\" class=\"dataframe\">\n  <thead>\n    <tr style=\"text-align: right;\">\n      <th></th>\n      <th>stop_id</th>\n      <th>stop_name</th>\n      <th>geometry</th>\n    </tr>\n  </thead>\n  <tbody>\n    <tr>\n      <th>0</th>\n      <td>at:43:3121:0:1</td>\n      <td>Baden Josefsplatz</td>\n      <td>POINT (16.23370 48.00595)</td>\n    </tr>\n    <tr>\n      <th>1</th>\n      <td>at:43:3134:0:1</td>\n      <td>Baden Viadukt</td>\n      <td>POINT (16.24097 48.00384)</td>\n    </tr>\n    <tr>\n      <th>2</th>\n      <td>at:43:3134:0:2</td>\n      <td>Baden Viadukt</td>\n      <td>POINT (16.24091 48.00373)</td>\n    </tr>\n    <tr>\n      <th>3</th>\n      <td>at:43:3142:0:3</td>\n      <td>Baden Leesdorf</td>\n      <td>POINT (16.25161 47.99951)</td>\n    </tr>\n    <tr>\n      <th>4</th>\n      <td>at:43:3142:0:4</td>\n      <td>Baden Leesdorf</td>\n      <td>POINT (16.25165 47.99956)</td>\n    </tr>\n  </tbody>\n</table>\n</div>"
     },
     "metadata": {},
     "execution_count": 4
    }
   ],
   "source": [
    "stops.head()"
   ]
  },
  {
   "source": [
    "In part one\n",
    "\n",
    "### Selecting the service_id with more trips\n",
    "\n",
    "To solve the issues listed above I can first start by looking for the 'service_id' I want to use. I could do it in many different ways and, if I was using the `triply` dataset, the most probable 'service_id' would be `citybus` service that I will want to analyze. For the purpose of this exercise, I will just take the service with more trips.\n",
    "\n",
    "The biggest service in this dataset seems to be 'T8+cor2', so I will take that one to filter."
   ],
   "cell_type": "markdown",
   "metadata": {}
  },
  {
   "source": [
    "## Filtering by service_id, stop_sequence and direction_id\n",
    "stop_times = stop_times.loc[(stop_times.service_id=='T8+cor2'),:].reset_index()\n",
    "stop_times.head()"
   ],
   "cell_type": "code",
   "metadata": {},
   "execution_count": 5,
   "outputs": [
    {
     "output_type": "execute_result",
     "data": {
      "text/plain": [
       "    index                  trip_id  arrival_time  departure_time  \\\n",
       "0  148413  7430.T8.22-10-j20-1.1.H       17700.0         17700.0   \n",
       "1  148414  7430.T8.22-10-j20-1.1.H       17820.0         17820.0   \n",
       "2  148415  7430.T8.22-10-j20-1.1.H       17880.0         17880.0   \n",
       "3  148416  7430.T8.22-10-j20-1.1.H       17940.0         17940.0   \n",
       "4  148417  7430.T8.22-10-j20-1.1.H       18060.0         18060.0   \n",
       "\n",
       "          stop_id  stop_sequence  pickup_type drop_off_type  \\\n",
       "0   at:49:597:0:8              1            0             0   \n",
       "1   at:49:445:0:5              2            0             0   \n",
       "2  at:49:1317:0:4              3            0             0   \n",
       "3   at:49:754:0:1              4            0             0   \n",
       "4  at:49:1035:0:9              5            0             0   \n",
       "\n",
       "   shape_dist_traveled     route_id service_id  direction_id         shape_id  \\\n",
       "0                 0.00  22-10-j20-1    T8+cor2             0  22-10-j20-1.1.H   \n",
       "1               381.52  22-10-j20-1    T8+cor2             0  22-10-j20-1.1.H   \n",
       "2               805.04  22-10-j20-1    T8+cor2             0  22-10-j20-1.1.H   \n",
       "3              1074.24  22-10-j20-1    T8+cor2             0  22-10-j20-1.1.H   \n",
       "4              1487.58  22-10-j20-1    T8+cor2             0  22-10-j20-1.1.H   \n",
       "\n",
       "               stop_name                   geometry  \n",
       "0    Joachimsthalerplatz  POINT (16.30441 48.20883)  \n",
       "1          Gutraterplatz  POINT (16.30889 48.20775)  \n",
       "2        Kendlerstraße U  POINT (16.30807 48.20424)  \n",
       "3        Laurentiusplatz  POINT (16.30792 48.20196)  \n",
       "4  Hütteldorfer Straße U  POINT (16.31215 48.19958)  "
      ],
      "text/html": "<div>\n<style scoped>\n    .dataframe tbody tr th:only-of-type {\n        vertical-align: middle;\n    }\n\n    .dataframe tbody tr th {\n        vertical-align: top;\n    }\n\n    .dataframe thead th {\n        text-align: right;\n    }\n</style>\n<table border=\"1\" class=\"dataframe\">\n  <thead>\n    <tr style=\"text-align: right;\">\n      <th></th>\n      <th>index</th>\n      <th>trip_id</th>\n      <th>arrival_time</th>\n      <th>departure_time</th>\n      <th>stop_id</th>\n      <th>stop_sequence</th>\n      <th>pickup_type</th>\n      <th>drop_off_type</th>\n      <th>shape_dist_traveled</th>\n      <th>route_id</th>\n      <th>service_id</th>\n      <th>direction_id</th>\n      <th>shape_id</th>\n      <th>stop_name</th>\n      <th>geometry</th>\n    </tr>\n  </thead>\n  <tbody>\n    <tr>\n      <th>0</th>\n      <td>148413</td>\n      <td>7430.T8.22-10-j20-1.1.H</td>\n      <td>17700.0</td>\n      <td>17700.0</td>\n      <td>at:49:597:0:8</td>\n      <td>1</td>\n      <td>0</td>\n      <td>0</td>\n      <td>0.00</td>\n      <td>22-10-j20-1</td>\n      <td>T8+cor2</td>\n      <td>0</td>\n      <td>22-10-j20-1.1.H</td>\n      <td>Joachimsthalerplatz</td>\n      <td>POINT (16.30441 48.20883)</td>\n    </tr>\n    <tr>\n      <th>1</th>\n      <td>148414</td>\n      <td>7430.T8.22-10-j20-1.1.H</td>\n      <td>17820.0</td>\n      <td>17820.0</td>\n      <td>at:49:445:0:5</td>\n      <td>2</td>\n      <td>0</td>\n      <td>0</td>\n      <td>381.52</td>\n      <td>22-10-j20-1</td>\n      <td>T8+cor2</td>\n      <td>0</td>\n      <td>22-10-j20-1.1.H</td>\n      <td>Gutraterplatz</td>\n      <td>POINT (16.30889 48.20775)</td>\n    </tr>\n    <tr>\n      <th>2</th>\n      <td>148415</td>\n      <td>7430.T8.22-10-j20-1.1.H</td>\n      <td>17880.0</td>\n      <td>17880.0</td>\n      <td>at:49:1317:0:4</td>\n      <td>3</td>\n      <td>0</td>\n      <td>0</td>\n      <td>805.04</td>\n      <td>22-10-j20-1</td>\n      <td>T8+cor2</td>\n      <td>0</td>\n      <td>22-10-j20-1.1.H</td>\n      <td>Kendlerstraße U</td>\n      <td>POINT (16.30807 48.20424)</td>\n    </tr>\n    <tr>\n      <th>3</th>\n      <td>148416</td>\n      <td>7430.T8.22-10-j20-1.1.H</td>\n      <td>17940.0</td>\n      <td>17940.0</td>\n      <td>at:49:754:0:1</td>\n      <td>4</td>\n      <td>0</td>\n      <td>0</td>\n      <td>1074.24</td>\n      <td>22-10-j20-1</td>\n      <td>T8+cor2</td>\n      <td>0</td>\n      <td>22-10-j20-1.1.H</td>\n      <td>Laurentiusplatz</td>\n      <td>POINT (16.30792 48.20196)</td>\n    </tr>\n    <tr>\n      <th>4</th>\n      <td>148417</td>\n      <td>7430.T8.22-10-j20-1.1.H</td>\n      <td>18060.0</td>\n      <td>18060.0</td>\n      <td>at:49:1035:0:9</td>\n      <td>5</td>\n      <td>0</td>\n      <td>0</td>\n      <td>1487.58</td>\n      <td>22-10-j20-1</td>\n      <td>T8+cor2</td>\n      <td>0</td>\n      <td>22-10-j20-1.1.H</td>\n      <td>Hütteldorfer Straße U</td>\n      <td>POINT (16.31215 48.19958)</td>\n    </tr>\n  </tbody>\n</table>\n</div>"
     },
     "metadata": {},
     "execution_count": 5
    }
   ]
  },
  {
   "cell_type": "code",
   "execution_count": 6,
   "metadata": {},
   "outputs": [
    {
     "output_type": "execute_result",
     "data": {
      "text/plain": [
       "    index                  trip_id  arrival_time  departure_time  \\\n",
       "0  148413  7430.T8.22-10-j20-1.1.H       17700.0         17700.0   \n",
       "1  148414  7430.T8.22-10-j20-1.1.H       17820.0         17820.0   \n",
       "2  148415  7430.T8.22-10-j20-1.1.H       17880.0         17880.0   \n",
       "3  148416  7430.T8.22-10-j20-1.1.H       17940.0         17940.0   \n",
       "4  148417  7430.T8.22-10-j20-1.1.H       18060.0         18060.0   \n",
       "\n",
       "          stop_id  stop_sequence  pickup_type drop_off_type  \\\n",
       "0   at:49:597:0:8              1            0             0   \n",
       "1   at:49:445:0:5              2            0             0   \n",
       "2  at:49:1317:0:4              3            0             0   \n",
       "3   at:49:754:0:1              4            0             0   \n",
       "4  at:49:1035:0:9              5            0             0   \n",
       "\n",
       "   shape_dist_traveled     route_id service_id  direction_id         shape_id  \\\n",
       "0                 0.00  22-10-j20-1    T8+cor2             0  22-10-j20-1.1.H   \n",
       "1               381.52  22-10-j20-1    T8+cor2             0  22-10-j20-1.1.H   \n",
       "2               805.04  22-10-j20-1    T8+cor2             0  22-10-j20-1.1.H   \n",
       "3              1074.24  22-10-j20-1    T8+cor2             0  22-10-j20-1.1.H   \n",
       "4              1487.58  22-10-j20-1    T8+cor2             0  22-10-j20-1.1.H   \n",
       "\n",
       "               stop_name                   geometry  \n",
       "0    Joachimsthalerplatz  POINT (16.30441 48.20883)  \n",
       "1          Gutraterplatz  POINT (16.30889 48.20775)  \n",
       "2        Kendlerstraße U  POINT (16.30807 48.20424)  \n",
       "3        Laurentiusplatz  POINT (16.30792 48.20196)  \n",
       "4  Hütteldorfer Straße U  POINT (16.31215 48.19958)  "
      ],
      "text/html": "<div>\n<style scoped>\n    .dataframe tbody tr th:only-of-type {\n        vertical-align: middle;\n    }\n\n    .dataframe tbody tr th {\n        vertical-align: top;\n    }\n\n    .dataframe thead th {\n        text-align: right;\n    }\n</style>\n<table border=\"1\" class=\"dataframe\">\n  <thead>\n    <tr style=\"text-align: right;\">\n      <th></th>\n      <th>index</th>\n      <th>trip_id</th>\n      <th>arrival_time</th>\n      <th>departure_time</th>\n      <th>stop_id</th>\n      <th>stop_sequence</th>\n      <th>pickup_type</th>\n      <th>drop_off_type</th>\n      <th>shape_dist_traveled</th>\n      <th>route_id</th>\n      <th>service_id</th>\n      <th>direction_id</th>\n      <th>shape_id</th>\n      <th>stop_name</th>\n      <th>geometry</th>\n    </tr>\n  </thead>\n  <tbody>\n    <tr>\n      <th>0</th>\n      <td>148413</td>\n      <td>7430.T8.22-10-j20-1.1.H</td>\n      <td>17700.0</td>\n      <td>17700.0</td>\n      <td>at:49:597:0:8</td>\n      <td>1</td>\n      <td>0</td>\n      <td>0</td>\n      <td>0.00</td>\n      <td>22-10-j20-1</td>\n      <td>T8+cor2</td>\n      <td>0</td>\n      <td>22-10-j20-1.1.H</td>\n      <td>Joachimsthalerplatz</td>\n      <td>POINT (16.30441 48.20883)</td>\n    </tr>\n    <tr>\n      <th>1</th>\n      <td>148414</td>\n      <td>7430.T8.22-10-j20-1.1.H</td>\n      <td>17820.0</td>\n      <td>17820.0</td>\n      <td>at:49:445:0:5</td>\n      <td>2</td>\n      <td>0</td>\n      <td>0</td>\n      <td>381.52</td>\n      <td>22-10-j20-1</td>\n      <td>T8+cor2</td>\n      <td>0</td>\n      <td>22-10-j20-1.1.H</td>\n      <td>Gutraterplatz</td>\n      <td>POINT (16.30889 48.20775)</td>\n    </tr>\n    <tr>\n      <th>2</th>\n      <td>148415</td>\n      <td>7430.T8.22-10-j20-1.1.H</td>\n      <td>17880.0</td>\n      <td>17880.0</td>\n      <td>at:49:1317:0:4</td>\n      <td>3</td>\n      <td>0</td>\n      <td>0</td>\n      <td>805.04</td>\n      <td>22-10-j20-1</td>\n      <td>T8+cor2</td>\n      <td>0</td>\n      <td>22-10-j20-1.1.H</td>\n      <td>Kendlerstraße U</td>\n      <td>POINT (16.30807 48.20424)</td>\n    </tr>\n    <tr>\n      <th>3</th>\n      <td>148416</td>\n      <td>7430.T8.22-10-j20-1.1.H</td>\n      <td>17940.0</td>\n      <td>17940.0</td>\n      <td>at:49:754:0:1</td>\n      <td>4</td>\n      <td>0</td>\n      <td>0</td>\n      <td>1074.24</td>\n      <td>22-10-j20-1</td>\n      <td>T8+cor2</td>\n      <td>0</td>\n      <td>22-10-j20-1.1.H</td>\n      <td>Laurentiusplatz</td>\n      <td>POINT (16.30792 48.20196)</td>\n    </tr>\n    <tr>\n      <th>4</th>\n      <td>148417</td>\n      <td>7430.T8.22-10-j20-1.1.H</td>\n      <td>18060.0</td>\n      <td>18060.0</td>\n      <td>at:49:1035:0:9</td>\n      <td>5</td>\n      <td>0</td>\n      <td>0</td>\n      <td>1487.58</td>\n      <td>22-10-j20-1</td>\n      <td>T8+cor2</td>\n      <td>0</td>\n      <td>22-10-j20-1.1.H</td>\n      <td>Hütteldorfer Straße U</td>\n      <td>POINT (16.31215 48.19958)</td>\n    </tr>\n  </tbody>\n</table>\n</div>"
     },
     "metadata": {},
     "execution_count": 6
    }
   ],
   "source": [
    "\n",
    "stop_times.head()"
   ]
  },
  {
   "cell_type": "code",
   "execution_count": 7,
   "metadata": {},
   "outputs": [
    {
     "output_type": "execute_result",
     "data": {
      "text/plain": [
       "                     trip_id     route_id service_id  direction_id  \\\n",
       "5973    1.T8.22-10-j20-1.8.R  22-10-j20-1    T8+cor2             1   \n",
       "5974   10.T8.22-10-j20-1.9.R  22-10-j20-1    T8+cor2             1   \n",
       "5975  105.T8.22-10-j20-1.3.H  22-10-j20-1    T8+cor2             0   \n",
       "5976  106.T8.22-10-j20-1.1.H  22-10-j20-1    T8+cor2             0   \n",
       "5977  107.T8.22-10-j20-1.3.H  22-10-j20-1    T8+cor2             0   \n",
       "\n",
       "             shape_id  \n",
       "5973  22-10-j20-1.8.R  \n",
       "5974  22-10-j20-1.9.R  \n",
       "5975  22-10-j20-1.3.H  \n",
       "5976  22-10-j20-1.1.H  \n",
       "5977  22-10-j20-1.3.H  "
      ],
      "text/html": "<div>\n<style scoped>\n    .dataframe tbody tr th:only-of-type {\n        vertical-align: middle;\n    }\n\n    .dataframe tbody tr th {\n        vertical-align: top;\n    }\n\n    .dataframe thead th {\n        text-align: right;\n    }\n</style>\n<table border=\"1\" class=\"dataframe\">\n  <thead>\n    <tr style=\"text-align: right;\">\n      <th></th>\n      <th>trip_id</th>\n      <th>route_id</th>\n      <th>service_id</th>\n      <th>direction_id</th>\n      <th>shape_id</th>\n    </tr>\n  </thead>\n  <tbody>\n    <tr>\n      <th>5973</th>\n      <td>1.T8.22-10-j20-1.8.R</td>\n      <td>22-10-j20-1</td>\n      <td>T8+cor2</td>\n      <td>1</td>\n      <td>22-10-j20-1.8.R</td>\n    </tr>\n    <tr>\n      <th>5974</th>\n      <td>10.T8.22-10-j20-1.9.R</td>\n      <td>22-10-j20-1</td>\n      <td>T8+cor2</td>\n      <td>1</td>\n      <td>22-10-j20-1.9.R</td>\n    </tr>\n    <tr>\n      <th>5975</th>\n      <td>105.T8.22-10-j20-1.3.H</td>\n      <td>22-10-j20-1</td>\n      <td>T8+cor2</td>\n      <td>0</td>\n      <td>22-10-j20-1.3.H</td>\n    </tr>\n    <tr>\n      <th>5976</th>\n      <td>106.T8.22-10-j20-1.1.H</td>\n      <td>22-10-j20-1</td>\n      <td>T8+cor2</td>\n      <td>0</td>\n      <td>22-10-j20-1.1.H</td>\n    </tr>\n    <tr>\n      <th>5977</th>\n      <td>107.T8.22-10-j20-1.3.H</td>\n      <td>22-10-j20-1</td>\n      <td>T8+cor2</td>\n      <td>0</td>\n      <td>22-10-j20-1.3.H</td>\n    </tr>\n  </tbody>\n</table>\n</div>"
     },
     "metadata": {},
     "execution_count": 7
    }
   ],
   "source": [
    "## Filtering by service_id\n",
    "trips = trips.loc[(trips.service_id=='T8+cor2')]\n",
    "trips.head()"
   ]
  },
  {
   "cell_type": "code",
   "execution_count": 8,
   "metadata": {},
   "outputs": [
    {
     "output_type": "execute_result",
     "data": {
      "text/plain": [
       "            shape_id                                           geometry\n",
       "0   11-WLB-j20-1.1.H  LINESTRING (16.37064 48.20200, 16.37038 48.202...\n",
       "1  11-WLB-j20-1.10.R  LINESTRING (16.33424 48.14977, 16.33479 48.150...\n",
       "2  11-WLB-j20-1.11.R  LINESTRING (16.25162 47.99952, 16.25248 47.999...\n",
       "3  11-WLB-j20-1.12.R  LINESTRING (16.23370 48.00595, 16.23388 48.005...\n",
       "4  11-WLB-j20-1.13.R  LINESTRING (16.31405 48.08710, 16.31410 48.087..."
      ],
      "text/html": "<div>\n<style scoped>\n    .dataframe tbody tr th:only-of-type {\n        vertical-align: middle;\n    }\n\n    .dataframe tbody tr th {\n        vertical-align: top;\n    }\n\n    .dataframe thead th {\n        text-align: right;\n    }\n</style>\n<table border=\"1\" class=\"dataframe\">\n  <thead>\n    <tr style=\"text-align: right;\">\n      <th></th>\n      <th>shape_id</th>\n      <th>geometry</th>\n    </tr>\n  </thead>\n  <tbody>\n    <tr>\n      <th>0</th>\n      <td>11-WLB-j20-1.1.H</td>\n      <td>LINESTRING (16.37064 48.20200, 16.37038 48.202...</td>\n    </tr>\n    <tr>\n      <th>1</th>\n      <td>11-WLB-j20-1.10.R</td>\n      <td>LINESTRING (16.33424 48.14977, 16.33479 48.150...</td>\n    </tr>\n    <tr>\n      <th>2</th>\n      <td>11-WLB-j20-1.11.R</td>\n      <td>LINESTRING (16.25162 47.99952, 16.25248 47.999...</td>\n    </tr>\n    <tr>\n      <th>3</th>\n      <td>11-WLB-j20-1.12.R</td>\n      <td>LINESTRING (16.23370 48.00595, 16.23388 48.005...</td>\n    </tr>\n    <tr>\n      <th>4</th>\n      <td>11-WLB-j20-1.13.R</td>\n      <td>LINESTRING (16.31405 48.08710, 16.31410 48.087...</td>\n    </tr>\n  </tbody>\n</table>\n</div>"
     },
     "metadata": {},
     "execution_count": 8
    }
   ],
   "source": [
    "shapes.head()"
   ]
  },
  {
   "source": [
    "## Stop frequencies\n",
    "\n",
    "This function will create a geodataframe with the frequency for each combination of stop, time of day and direction. Each row with a Point geometry. The stops_freq function takes stop_times and stops created in the previous steps as arguments.\n",
    "\n",
    "### cutoffs\n",
    "With the cutoff = [6,7,8,9,10,11,12,13,14,15,16,17,18], I filtered the data between 6am - 6pm.\n",
    "\n"
   ],
   "cell_type": "markdown",
   "metadata": {}
  },
  {
   "cell_type": "code",
   "execution_count": 9,
   "metadata": {},
   "outputs": [
    {
     "output_type": "execute_result",
     "data": {
      "text/plain": [
       "              stop_id   dir_id       window  ntrips  frequency  max_trips  \\\n",
       "12928    at:49:15:0:2  Inbound  14:00-15:00       1         60          3   \n",
       "3737   at:49:1158:0:6  Inbound    6:00-7:00       1         60          1   \n",
       "18053   at:49:240:0:1  Inbound  13:00-14:00       1         60          1   \n",
       "34946   at:49:958:0:4  Inbound  14:00-15:00       1         60          1   \n",
       "34945   at:49:958:0:4  Inbound  13:00-14:00       1         60          1   \n",
       "\n",
       "       max_freq                  stop_name                   geometry  \n",
       "12928        20                     Albern  POINT (16.48533 48.15988)  \n",
       "3737         60       Linzer Str./Johnstr.  POINT (16.31479 48.19280)  \n",
       "18053        60           Dorfmeistergasse  POINT (16.29601 48.16436)  \n",
       "34946        60  Aspernstraße/Oberdorfstr.  POINT (16.48149 48.22014)  \n",
       "34945        60  Aspernstraße/Oberdorfstr.  POINT (16.48149 48.22014)  "
      ],
      "text/html": "<div>\n<style scoped>\n    .dataframe tbody tr th:only-of-type {\n        vertical-align: middle;\n    }\n\n    .dataframe tbody tr th {\n        vertical-align: top;\n    }\n\n    .dataframe thead th {\n        text-align: right;\n    }\n</style>\n<table border=\"1\" class=\"dataframe\">\n  <thead>\n    <tr style=\"text-align: right;\">\n      <th></th>\n      <th>stop_id</th>\n      <th>dir_id</th>\n      <th>window</th>\n      <th>ntrips</th>\n      <th>frequency</th>\n      <th>max_trips</th>\n      <th>max_freq</th>\n      <th>stop_name</th>\n      <th>geometry</th>\n    </tr>\n  </thead>\n  <tbody>\n    <tr>\n      <th>12928</th>\n      <td>at:49:15:0:2</td>\n      <td>Inbound</td>\n      <td>14:00-15:00</td>\n      <td>1</td>\n      <td>60</td>\n      <td>3</td>\n      <td>20</td>\n      <td>Albern</td>\n      <td>POINT (16.48533 48.15988)</td>\n    </tr>\n    <tr>\n      <th>3737</th>\n      <td>at:49:1158:0:6</td>\n      <td>Inbound</td>\n      <td>6:00-7:00</td>\n      <td>1</td>\n      <td>60</td>\n      <td>1</td>\n      <td>60</td>\n      <td>Linzer Str./Johnstr.</td>\n      <td>POINT (16.31479 48.19280)</td>\n    </tr>\n    <tr>\n      <th>18053</th>\n      <td>at:49:240:0:1</td>\n      <td>Inbound</td>\n      <td>13:00-14:00</td>\n      <td>1</td>\n      <td>60</td>\n      <td>1</td>\n      <td>60</td>\n      <td>Dorfmeistergasse</td>\n      <td>POINT (16.29601 48.16436)</td>\n    </tr>\n    <tr>\n      <th>34946</th>\n      <td>at:49:958:0:4</td>\n      <td>Inbound</td>\n      <td>14:00-15:00</td>\n      <td>1</td>\n      <td>60</td>\n      <td>1</td>\n      <td>60</td>\n      <td>Aspernstraße/Oberdorfstr.</td>\n      <td>POINT (16.48149 48.22014)</td>\n    </tr>\n    <tr>\n      <th>34945</th>\n      <td>at:49:958:0:4</td>\n      <td>Inbound</td>\n      <td>13:00-14:00</td>\n      <td>1</td>\n      <td>60</td>\n      <td>1</td>\n      <td>60</td>\n      <td>Aspernstraße/Oberdorfstr.</td>\n      <td>POINT (16.48149 48.22014)</td>\n    </tr>\n  </tbody>\n</table>\n</div>"
     },
     "metadata": {},
     "execution_count": 9
    }
   ],
   "source": [
    "cutoffs = [6,7,8,9,10,11,12,13,14,15,16,17,18]\n",
    "stop_freq = gtfs.stops_freq(stop_times, stops, cutoffs = cutoffs)\n",
    "stop_freq.head()"
   ]
  },
  {
   "source": [
    "## Line frequencies\n",
    "This create a geodataframe with the frequencyu for each combination of line, time of day and direction. Each row with a linestring geomety/"
   ],
   "cell_type": "markdown",
   "metadata": {}
  },
  {
   "cell_type": "code",
   "execution_count": 10,
   "metadata": {},
   "outputs": [
    {
     "output_type": "execute_result",
     "data": {
      "text/plain": [
       "          route_id                                route_name    dir_id  \\\n",
       "5451  23-76A-j20-1  76A Enkplatz/Grillgasse - Alberner Hafen   Inbound   \n",
       "5491  23-76A-j20-1  76A Enkplatz/Grillgasse - Alberner Hafen  Outbound   \n",
       "5455  23-76A-j20-1  76A Enkplatz/Grillgasse - Alberner Hafen   Inbound   \n",
       "5456  23-76A-j20-1  76A Enkplatz/Grillgasse - Alberner Hafen   Inbound   \n",
       "5481  23-76A-j20-1  76A Enkplatz/Grillgasse - Alberner Hafen   Inbound   \n",
       "\n",
       "           window  frequency  ntrips  max_freq  max_trips  \\\n",
       "5451  11:00-12:00         30       2        20          3   \n",
       "5491  12:00-13:00         30       2        20          3   \n",
       "5455  12:00-13:00         30       2        20          3   \n",
       "5456  12:00-13:00         30       2        20          3   \n",
       "5481   9:00-10:00         30       2        20          3   \n",
       "\n",
       "                                               geometry  \n",
       "5451  LINESTRING (16.41681 48.17429, 16.41661 48.174...  \n",
       "5491  LINESTRING (16.42768 48.17922, 16.42716 48.179...  \n",
       "5455  LINESTRING (16.41681 48.17429, 16.41661 48.174...  \n",
       "5456  LINESTRING (16.41681 48.17429, 16.41661 48.174...  \n",
       "5481  LINESTRING (16.41681 48.17429, 16.41661 48.174...  "
      ],
      "text/html": "<div>\n<style scoped>\n    .dataframe tbody tr th:only-of-type {\n        vertical-align: middle;\n    }\n\n    .dataframe tbody tr th {\n        vertical-align: top;\n    }\n\n    .dataframe thead th {\n        text-align: right;\n    }\n</style>\n<table border=\"1\" class=\"dataframe\">\n  <thead>\n    <tr style=\"text-align: right;\">\n      <th></th>\n      <th>route_id</th>\n      <th>route_name</th>\n      <th>dir_id</th>\n      <th>window</th>\n      <th>frequency</th>\n      <th>ntrips</th>\n      <th>max_freq</th>\n      <th>max_trips</th>\n      <th>geometry</th>\n    </tr>\n  </thead>\n  <tbody>\n    <tr>\n      <th>5451</th>\n      <td>23-76A-j20-1</td>\n      <td>76A Enkplatz/Grillgasse - Alberner Hafen</td>\n      <td>Inbound</td>\n      <td>11:00-12:00</td>\n      <td>30</td>\n      <td>2</td>\n      <td>20</td>\n      <td>3</td>\n      <td>LINESTRING (16.41681 48.17429, 16.41661 48.174...</td>\n    </tr>\n    <tr>\n      <th>5491</th>\n      <td>23-76A-j20-1</td>\n      <td>76A Enkplatz/Grillgasse - Alberner Hafen</td>\n      <td>Outbound</td>\n      <td>12:00-13:00</td>\n      <td>30</td>\n      <td>2</td>\n      <td>20</td>\n      <td>3</td>\n      <td>LINESTRING (16.42768 48.17922, 16.42716 48.179...</td>\n    </tr>\n    <tr>\n      <th>5455</th>\n      <td>23-76A-j20-1</td>\n      <td>76A Enkplatz/Grillgasse - Alberner Hafen</td>\n      <td>Inbound</td>\n      <td>12:00-13:00</td>\n      <td>30</td>\n      <td>2</td>\n      <td>20</td>\n      <td>3</td>\n      <td>LINESTRING (16.41681 48.17429, 16.41661 48.174...</td>\n    </tr>\n    <tr>\n      <th>5456</th>\n      <td>23-76A-j20-1</td>\n      <td>76A Enkplatz/Grillgasse - Alberner Hafen</td>\n      <td>Inbound</td>\n      <td>12:00-13:00</td>\n      <td>30</td>\n      <td>2</td>\n      <td>20</td>\n      <td>3</td>\n      <td>LINESTRING (16.41681 48.17429, 16.41661 48.174...</td>\n    </tr>\n    <tr>\n      <th>5481</th>\n      <td>23-76A-j20-1</td>\n      <td>76A Enkplatz/Grillgasse - Alberner Hafen</td>\n      <td>Inbound</td>\n      <td>9:00-10:00</td>\n      <td>30</td>\n      <td>2</td>\n      <td>20</td>\n      <td>3</td>\n      <td>LINESTRING (16.41681 48.17429, 16.41661 48.174...</td>\n    </tr>\n  </tbody>\n</table>\n</div>"
     },
     "metadata": {},
     "execution_count": 10
    }
   ],
   "source": [
    "cutoffs = [6,7,8,9,10,11,12,13,14,15,16,17,18]\n",
    "line_freq = gtfs.lines_freq(stop_times, trips, shapes, routes, cutoffs = cutoffs)\n",
    "line_freq.head()"
   ]
  },
  {
   "source": [
    "# Export Data\n",
    "\n",
    "## Stop Frequencies"
   ],
   "cell_type": "markdown",
   "metadata": {}
  },
  {
   "cell_type": "code",
   "execution_count": 11,
   "metadata": {},
   "outputs": [],
   "source": [
    "condition_dir = stop_freq.dir_id == 'Inbound'\n",
    "\n",
    "stop_gdf = stop_freq.loc[(condition_dir),:].reset_index()\n",
    "stop_gdf.to_file(\"data/stop_gdf.geojson\", driver=\"GeoJSON\")"
   ]
  },
  {
   "source": [
    "## Line frequencies"
   ],
   "cell_type": "markdown",
   "metadata": {}
  },
  {
   "cell_type": "code",
   "execution_count": 12,
   "metadata": {},
   "outputs": [],
   "source": [
    "condition_dir = line_freq.dir_id == 'Inbound'\n",
    "line_gdf = line_freq.loc[(condition_dir),:].reset_index()\n",
    "line_gdf.to_file(\"data/line_gdf.geojson\", driver=\"GeoJSON\")"
   ]
  },
  {
   "source": [
    "## Finally\n",
    "\n",
    "I visualized the data with [Kepler GL](https://kepler.gl/demo/map?mapUrl=https://dl.dropboxusercontent.com/s/zbh62eqoyj4d054/CityBus%20and%20Postbus%20services.json). This data visualize the line frequencies and stop frequencies."
   ],
   "cell_type": "markdown",
   "metadata": {}
  }
 ]
}