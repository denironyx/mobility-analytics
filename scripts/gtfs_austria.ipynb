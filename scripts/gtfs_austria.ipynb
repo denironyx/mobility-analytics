{
 "metadata": {
  "language_info": {
   "codemirror_mode": {
    "name": "ipython",
    "version": 3
   },
   "file_extension": ".py",
   "mimetype": "text/x-python",
   "name": "python",
   "nbconvert_exporter": "python",
   "pygments_lexer": "ipython3",
   "version": "3.9.5"
  },
  "orig_nbformat": 2,
  "kernelspec": {
   "name": "python395jvsc74a57bd063fd5069d213b44bf678585dea6b12cceca9941eaf7f819626cde1f2670de90d",
   "display_name": "Python 3.9.5 64-bit"
  }
 },
 "nbformat": 4,
 "nbformat_minor": 2,
 "cells": [
  {
   "cell_type": "code",
   "execution_count": 1,
   "metadata": {},
   "outputs": [],
   "source": [
    "import gtfs_functions as gtfs\n",
    "import geopandas\n",
    "\n",
    "# parse gtfs\n",
    "routes, stops, stop_times, trips, shapes = gtfs.import_gtfs('gtfs.zip')"
   ]
  },
  {
   "cell_type": "code",
   "execution_count": 2,
   "metadata": {},
   "outputs": [],
   "source": [
    "segments_gdf = gtfs.cut_gtfs(stop_times, stops, shapes)"
   ]
  },
  {
   "cell_type": "code",
   "execution_count": 6,
   "metadata": {},
   "outputs": [
    {
     "output_type": "execute_result",
     "data": {
      "text/plain": [
       "       route_id  direction_id  stop_sequence      start_stop_name  \\\n",
       "0  11-WLB-j20-1             0              1                 Oper   \n",
       "1  11-WLB-j20-1             0              2          Resselgasse   \n",
       "2  11-WLB-j20-1             0              3        Paulanergasse   \n",
       "3  11-WLB-j20-1             0              4        Mayerhofgasse   \n",
       "4  11-WLB-j20-1             0              5  Johann-Strauß-Gasse   \n",
       "\n",
       "         end_stop_name   start_stop_id     end_stop_id  \\\n",
       "0          Resselgasse   at:49:975:0:7  at:49:1094:0:4   \n",
       "1        Paulanergasse  at:49:1094:0:4   at:49:996:0:3   \n",
       "2        Mayerhofgasse   at:49:996:0:3   at:49:859:0:1   \n",
       "3  Johann-Strauß-Gasse   at:49:859:0:1   at:49:604:0:5   \n",
       "4         Laurenzgasse   at:49:604:0:5   at:49:755:0:1   \n",
       "\n",
       "                     segment_id          shape_id  \\\n",
       "0  at:49:975:0:7-at:49:1094:0:4  11-WLB-j20-1.1.H   \n",
       "1  at:49:1094:0:4-at:49:996:0:3  11-WLB-j20-1.1.H   \n",
       "2   at:49:996:0:3-at:49:859:0:1  11-WLB-j20-1.1.H   \n",
       "3   at:49:859:0:1-at:49:604:0:5  11-WLB-j20-1.1.H   \n",
       "4   at:49:604:0:5-at:49:755:0:1  11-WLB-j20-1.1.H   \n",
       "\n",
       "                                            geometry  distance_m  \n",
       "0  LINESTRING (16.37064 48.20200, 16.37038 48.202...  481.328048  \n",
       "1  LINESTRING (16.36770 48.19876, 16.36767 48.198...  291.853862  \n",
       "2  LINESTRING (16.36719 48.19616, 16.36712 48.195...  386.541561  \n",
       "3  LINESTRING (16.36696 48.19270, 16.36679 48.191...  234.933345  \n",
       "4  LINESTRING (16.36649 48.19061, 16.36647 48.190...  642.869639  "
      ],
      "text/html": "<div>\n<style scoped>\n    .dataframe tbody tr th:only-of-type {\n        vertical-align: middle;\n    }\n\n    .dataframe tbody tr th {\n        vertical-align: top;\n    }\n\n    .dataframe thead th {\n        text-align: right;\n    }\n</style>\n<table border=\"1\" class=\"dataframe\">\n  <thead>\n    <tr style=\"text-align: right;\">\n      <th></th>\n      <th>route_id</th>\n      <th>direction_id</th>\n      <th>stop_sequence</th>\n      <th>start_stop_name</th>\n      <th>end_stop_name</th>\n      <th>start_stop_id</th>\n      <th>end_stop_id</th>\n      <th>segment_id</th>\n      <th>shape_id</th>\n      <th>geometry</th>\n      <th>distance_m</th>\n    </tr>\n  </thead>\n  <tbody>\n    <tr>\n      <th>0</th>\n      <td>11-WLB-j20-1</td>\n      <td>0</td>\n      <td>1</td>\n      <td>Oper</td>\n      <td>Resselgasse</td>\n      <td>at:49:975:0:7</td>\n      <td>at:49:1094:0:4</td>\n      <td>at:49:975:0:7-at:49:1094:0:4</td>\n      <td>11-WLB-j20-1.1.H</td>\n      <td>LINESTRING (16.37064 48.20200, 16.37038 48.202...</td>\n      <td>481.328048</td>\n    </tr>\n    <tr>\n      <th>1</th>\n      <td>11-WLB-j20-1</td>\n      <td>0</td>\n      <td>2</td>\n      <td>Resselgasse</td>\n      <td>Paulanergasse</td>\n      <td>at:49:1094:0:4</td>\n      <td>at:49:996:0:3</td>\n      <td>at:49:1094:0:4-at:49:996:0:3</td>\n      <td>11-WLB-j20-1.1.H</td>\n      <td>LINESTRING (16.36770 48.19876, 16.36767 48.198...</td>\n      <td>291.853862</td>\n    </tr>\n    <tr>\n      <th>2</th>\n      <td>11-WLB-j20-1</td>\n      <td>0</td>\n      <td>3</td>\n      <td>Paulanergasse</td>\n      <td>Mayerhofgasse</td>\n      <td>at:49:996:0:3</td>\n      <td>at:49:859:0:1</td>\n      <td>at:49:996:0:3-at:49:859:0:1</td>\n      <td>11-WLB-j20-1.1.H</td>\n      <td>LINESTRING (16.36719 48.19616, 16.36712 48.195...</td>\n      <td>386.541561</td>\n    </tr>\n    <tr>\n      <th>3</th>\n      <td>11-WLB-j20-1</td>\n      <td>0</td>\n      <td>4</td>\n      <td>Mayerhofgasse</td>\n      <td>Johann-Strauß-Gasse</td>\n      <td>at:49:859:0:1</td>\n      <td>at:49:604:0:5</td>\n      <td>at:49:859:0:1-at:49:604:0:5</td>\n      <td>11-WLB-j20-1.1.H</td>\n      <td>LINESTRING (16.36696 48.19270, 16.36679 48.191...</td>\n      <td>234.933345</td>\n    </tr>\n    <tr>\n      <th>4</th>\n      <td>11-WLB-j20-1</td>\n      <td>0</td>\n      <td>5</td>\n      <td>Johann-Strauß-Gasse</td>\n      <td>Laurenzgasse</td>\n      <td>at:49:604:0:5</td>\n      <td>at:49:755:0:1</td>\n      <td>at:49:604:0:5-at:49:755:0:1</td>\n      <td>11-WLB-j20-1.1.H</td>\n      <td>LINESTRING (16.36649 48.19061, 16.36647 48.190...</td>\n      <td>642.869639</td>\n    </tr>\n  </tbody>\n</table>\n</div>"
     },
     "metadata": {},
     "execution_count": 6
    }
   ],
   "source": [
    "segments_gdf.head()"
   ]
  },
  {
   "cell_type": "code",
   "execution_count": 3,
   "metadata": {},
   "outputs": [
    {
     "output_type": "execute_result",
     "data": {
      "text/plain": [
       "             route_id                                         route_name  \\\n",
       "14791    23-20A-j20-1  20A Kaisermühlen-VIC - Neue Donau (- Floridsdorf)   \n",
       "52175       ALL_LINES                                          All lines   \n",
       "9594      22-52-j20-1  52 Westbahnhof - Baumgarten gültig bis 03.07 u...   \n",
       "19781  23-43A-S-j20-1  43A Neuwaldegg - Cobenzl Parkplatz Sommerfahrplan   \n",
       "30116  23-79B-U-j20-1  79B Donaumarina - Kaiserebersdorf, Zinnergasse...   \n",
       "\n",
       "         dir_id                    segment_id     window  frequency  ntrips  \\\n",
       "14791   Inbound  at:49:185:0:1-at:49:1329:0:1  0:00-6:00        360       1   \n",
       "52175        NA    at:49:85:0:2-at:49:936:0:1  0:00-6:00        360       1   \n",
       "9594   Outbound  at:49:589:0:1-at:49:1304:0:1  0:00-6:00        360       1   \n",
       "19781  Outbound  at:49:1806:0:2-at:49:935:0:1  0:00-6:00        360       1   \n",
       "30116  Outbound  at:49:320:0:2-at:49:1301:0:3  0:00-6:00        360       1   \n",
       "\n",
       "              s_st_id            s_st_name              e_st_name  max_freq  \\\n",
       "14791   at:49:185:0:1       Bundessportbad   Strandbad Alte Donau        30   \n",
       "52175    at:49:85:0:2        Artariastraße  Höhenstraße/Marswiese        16   \n",
       "9594    at:49:589:0:1      Jagdschloßgasse           Stadlergasse        60   \n",
       "19781  at:49:1806:0:2  Neuwaldegger Straße             Neuwaldegg        15   \n",
       "30116   at:49:320:0:2      Dammhaufengasse            Praterkai S        30   \n",
       "\n",
       "       max_trips                                           geometry  \n",
       "14791          2  LINESTRING (16.42072 48.24015, 16.42057 48.240...  \n",
       "52175         15  LINESTRING (16.28134 48.24262, 16.28134 48.242...  \n",
       "9594           1  LINESTRING (16.28366 48.17692, 16.28365 48.176...  \n",
       "19781          4  LINESTRING (16.28798 48.23686, 16.28801 48.236...  \n",
       "30116          2  LINESTRING (16.44710 48.19573, 16.44707 48.195...  "
      ],
      "text/html": "<div>\n<style scoped>\n    .dataframe tbody tr th:only-of-type {\n        vertical-align: middle;\n    }\n\n    .dataframe tbody tr th {\n        vertical-align: top;\n    }\n\n    .dataframe thead th {\n        text-align: right;\n    }\n</style>\n<table border=\"1\" class=\"dataframe\">\n  <thead>\n    <tr style=\"text-align: right;\">\n      <th></th>\n      <th>route_id</th>\n      <th>route_name</th>\n      <th>dir_id</th>\n      <th>segment_id</th>\n      <th>window</th>\n      <th>frequency</th>\n      <th>ntrips</th>\n      <th>s_st_id</th>\n      <th>s_st_name</th>\n      <th>e_st_name</th>\n      <th>max_freq</th>\n      <th>max_trips</th>\n      <th>geometry</th>\n    </tr>\n  </thead>\n  <tbody>\n    <tr>\n      <th>14791</th>\n      <td>23-20A-j20-1</td>\n      <td>20A Kaisermühlen-VIC - Neue Donau (- Floridsdorf)</td>\n      <td>Inbound</td>\n      <td>at:49:185:0:1-at:49:1329:0:1</td>\n      <td>0:00-6:00</td>\n      <td>360</td>\n      <td>1</td>\n      <td>at:49:185:0:1</td>\n      <td>Bundessportbad</td>\n      <td>Strandbad Alte Donau</td>\n      <td>30</td>\n      <td>2</td>\n      <td>LINESTRING (16.42072 48.24015, 16.42057 48.240...</td>\n    </tr>\n    <tr>\n      <th>52175</th>\n      <td>ALL_LINES</td>\n      <td>All lines</td>\n      <td>NA</td>\n      <td>at:49:85:0:2-at:49:936:0:1</td>\n      <td>0:00-6:00</td>\n      <td>360</td>\n      <td>1</td>\n      <td>at:49:85:0:2</td>\n      <td>Artariastraße</td>\n      <td>Höhenstraße/Marswiese</td>\n      <td>16</td>\n      <td>15</td>\n      <td>LINESTRING (16.28134 48.24262, 16.28134 48.242...</td>\n    </tr>\n    <tr>\n      <th>9594</th>\n      <td>22-52-j20-1</td>\n      <td>52 Westbahnhof - Baumgarten gültig bis 03.07 u...</td>\n      <td>Outbound</td>\n      <td>at:49:589:0:1-at:49:1304:0:1</td>\n      <td>0:00-6:00</td>\n      <td>360</td>\n      <td>1</td>\n      <td>at:49:589:0:1</td>\n      <td>Jagdschloßgasse</td>\n      <td>Stadlergasse</td>\n      <td>60</td>\n      <td>1</td>\n      <td>LINESTRING (16.28366 48.17692, 16.28365 48.176...</td>\n    </tr>\n    <tr>\n      <th>19781</th>\n      <td>23-43A-S-j20-1</td>\n      <td>43A Neuwaldegg - Cobenzl Parkplatz Sommerfahrplan</td>\n      <td>Outbound</td>\n      <td>at:49:1806:0:2-at:49:935:0:1</td>\n      <td>0:00-6:00</td>\n      <td>360</td>\n      <td>1</td>\n      <td>at:49:1806:0:2</td>\n      <td>Neuwaldegger Straße</td>\n      <td>Neuwaldegg</td>\n      <td>15</td>\n      <td>4</td>\n      <td>LINESTRING (16.28798 48.23686, 16.28801 48.236...</td>\n    </tr>\n    <tr>\n      <th>30116</th>\n      <td>23-79B-U-j20-1</td>\n      <td>79B Donaumarina - Kaiserebersdorf, Zinnergasse...</td>\n      <td>Outbound</td>\n      <td>at:49:320:0:2-at:49:1301:0:3</td>\n      <td>0:00-6:00</td>\n      <td>360</td>\n      <td>1</td>\n      <td>at:49:320:0:2</td>\n      <td>Dammhaufengasse</td>\n      <td>Praterkai S</td>\n      <td>30</td>\n      <td>2</td>\n      <td>LINESTRING (16.44710 48.19573, 16.44707 48.195...</td>\n    </tr>\n  </tbody>\n</table>\n</div>"
     },
     "metadata": {},
     "execution_count": 3
    }
   ],
   "source": [
    "cutoffs = [0,6,9,15,19,22,24]\n",
    "seg_freq = gtfs.segments_freq(segments_gdf, stop_times, routes, cutoffs = cutoffs)\n",
    "seg_freq.head()"
   ]
  },
  {
   "cell_type": "code",
   "execution_count": 4,
   "metadata": {},
   "outputs": [],
   "source": [
    "file_name = 'segment_frequencies'\n",
    "seg_freq.to_file(file_name, shapefile=True, geojson=True)\n"
   ]
  },
  {
   "cell_type": "code",
   "execution_count": 5,
   "metadata": {},
   "outputs": [
    {
     "output_type": "display_data",
     "data": {
      "text/plain": "KeplerGl(data={'data':              route_id                                         route_name  \\\n14791    23…",
      "application/vnd.jupyter.widget-view+json": {
       "version_major": 2,
       "version_minor": 0,
       "model_id": "4f4923995960403f971ea47848bb4b38"
      }
     },
     "metadata": {}
    },
    {
     "output_type": "stream",
     "name": "stdout",
     "text": [
      "User Guide: https://docs.kepler.gl/docs/keplergl-jupyter\n"
     ]
    }
   ],
   "source": [
    "import keplergl as kp\n",
    "m = kp.KeplerGl(data=dict(data=seg_freq, name='Segment Frequency'), height=600)\n",
    "m"
   ]
  },
  {
   "cell_type": "code",
   "execution_count": 5,
   "metadata": {},
   "outputs": [
    {
     "output_type": "error",
     "ename": "AttributeError",
     "evalue": "'str' object has no attribute '_geom'",
     "traceback": [
      "\u001b[1;31m---------------------------------------------------------------------------\u001b[0m",
      "\u001b[1;31mAttributeError\u001b[0m                            Traceback (most recent call last)",
      "\u001b[1;32m<ipython-input-5-aa135e4f42fc>\u001b[0m in \u001b[0;36m<module>\u001b[1;34m\u001b[0m\n\u001b[1;32m----> 1\u001b[1;33m \u001b[0mm\u001b[0m\u001b[1;33m.\u001b[0m\u001b[0msave_to_html\u001b[0m\u001b[1;33m(\u001b[0m\u001b[0mfile_name\u001b[0m\u001b[1;33m=\u001b[0m\u001b[1;34m\"my_keplergl_map.html\"\u001b[0m\u001b[1;33m)\u001b[0m\u001b[1;33m\u001b[0m\u001b[1;33m\u001b[0m\u001b[0m\n\u001b[0m",
      "\u001b[1;32mC:\\Python39\\lib\\site-packages\\keplergl\\keplergl.py\u001b[0m in \u001b[0;36msave_to_html\u001b[1;34m(self, data, config, file_name, read_only, center_map)\u001b[0m\n\u001b[0;32m    192\u001b[0m \u001b[1;33m\u001b[0m\u001b[0m\n\u001b[0;32m    193\u001b[0m         '''\n\u001b[1;32m--> 194\u001b[1;33m         \u001b[0mframe_txt\u001b[0m \u001b[1;33m=\u001b[0m \u001b[0mself\u001b[0m\u001b[1;33m.\u001b[0m\u001b[0m_repr_html_\u001b[0m\u001b[1;33m(\u001b[0m\u001b[0mdata\u001b[0m\u001b[1;33m=\u001b[0m\u001b[0mdata\u001b[0m\u001b[1;33m,\u001b[0m \u001b[0mconfig\u001b[0m\u001b[1;33m=\u001b[0m\u001b[0mconfig\u001b[0m\u001b[1;33m,\u001b[0m \u001b[0mread_only\u001b[0m\u001b[1;33m=\u001b[0m\u001b[0mread_only\u001b[0m\u001b[1;33m,\u001b[0m \u001b[0mcenter_map\u001b[0m\u001b[1;33m=\u001b[0m\u001b[0mcenter_map\u001b[0m\u001b[1;33m)\u001b[0m\u001b[1;33m\u001b[0m\u001b[1;33m\u001b[0m\u001b[0m\n\u001b[0m\u001b[0;32m    195\u001b[0m \u001b[1;33m\u001b[0m\u001b[0m\n\u001b[0;32m    196\u001b[0m         \u001b[1;32mwith\u001b[0m \u001b[0mopen\u001b[0m\u001b[1;33m(\u001b[0m\u001b[0mfile_name\u001b[0m\u001b[1;33m,\u001b[0m \u001b[1;34m'wb'\u001b[0m\u001b[1;33m)\u001b[0m \u001b[1;32mas\u001b[0m \u001b[0mf\u001b[0m\u001b[1;33m:\u001b[0m\u001b[1;33m\u001b[0m\u001b[1;33m\u001b[0m\u001b[0m\n",
      "\u001b[1;32mC:\\Python39\\lib\\site-packages\\keplergl\\keplergl.py\u001b[0m in \u001b[0;36m_repr_html_\u001b[1;34m(self, data, config, read_only, center_map)\u001b[0m\n\u001b[0;32m    159\u001b[0m         \u001b[0mk\u001b[0m \u001b[1;33m=\u001b[0m \u001b[0mkeplergl_html\u001b[0m\u001b[1;33m.\u001b[0m\u001b[0mfind\u001b[0m\u001b[1;33m(\u001b[0m\u001b[1;34m\"<body>\"\u001b[0m\u001b[1;33m)\u001b[0m\u001b[1;33m\u001b[0m\u001b[1;33m\u001b[0m\u001b[0m\n\u001b[0;32m    160\u001b[0m \u001b[1;33m\u001b[0m\u001b[0m\n\u001b[1;32m--> 161\u001b[1;33m         \u001b[0mdata_to_add\u001b[0m \u001b[1;33m=\u001b[0m \u001b[0mdata_to_json\u001b[0m\u001b[1;33m(\u001b[0m\u001b[0mself\u001b[0m\u001b[1;33m.\u001b[0m\u001b[0mdata\u001b[0m\u001b[1;33m,\u001b[0m \u001b[1;32mNone\u001b[0m\u001b[1;33m)\u001b[0m \u001b[1;32mif\u001b[0m \u001b[0mdata\u001b[0m \u001b[1;33m==\u001b[0m \u001b[1;32mNone\u001b[0m \u001b[1;32melse\u001b[0m \u001b[0mdata_to_json\u001b[0m\u001b[1;33m(\u001b[0m\u001b[0mdata\u001b[0m\u001b[1;33m,\u001b[0m \u001b[1;32mNone\u001b[0m\u001b[1;33m)\u001b[0m\u001b[1;33m\u001b[0m\u001b[1;33m\u001b[0m\u001b[0m\n\u001b[0m\u001b[0;32m    162\u001b[0m         \u001b[0mconfig_to_add\u001b[0m \u001b[1;33m=\u001b[0m \u001b[0mself\u001b[0m\u001b[1;33m.\u001b[0m\u001b[0mconfig\u001b[0m \u001b[1;32mif\u001b[0m \u001b[0mconfig\u001b[0m \u001b[1;33m==\u001b[0m \u001b[1;32mNone\u001b[0m \u001b[1;32melse\u001b[0m \u001b[0mconfig\u001b[0m\u001b[1;33m\u001b[0m\u001b[1;33m\u001b[0m\u001b[0m\n\u001b[0;32m    163\u001b[0m \u001b[1;33m\u001b[0m\u001b[0m\n",
      "\u001b[1;32mC:\\Python39\\lib\\site-packages\\keplergl\\keplergl.py\u001b[0m in \u001b[0;36mdata_to_json\u001b[1;34m(data, manager)\u001b[0m\n\u001b[0;32m     62\u001b[0m             \u001b[0mdataset\u001b[0m \u001b[1;33m=\u001b[0m \u001b[1;33m{\u001b[0m\u001b[1;33m}\u001b[0m\u001b[1;33m\u001b[0m\u001b[1;33m\u001b[0m\u001b[0m\n\u001b[0;32m     63\u001b[0m             \u001b[1;32mfor\u001b[0m \u001b[0mkey\u001b[0m\u001b[1;33m,\u001b[0m \u001b[0mvalue\u001b[0m \u001b[1;32min\u001b[0m \u001b[0mdata\u001b[0m\u001b[1;33m.\u001b[0m\u001b[0mitems\u001b[0m\u001b[1;33m(\u001b[0m\u001b[1;33m)\u001b[0m\u001b[1;33m:\u001b[0m\u001b[1;33m\u001b[0m\u001b[1;33m\u001b[0m\u001b[0m\n\u001b[1;32m---> 64\u001b[1;33m                 \u001b[0mnormalized\u001b[0m \u001b[1;33m=\u001b[0m \u001b[0m_normalize_data\u001b[0m\u001b[1;33m(\u001b[0m\u001b[0mvalue\u001b[0m\u001b[1;33m)\u001b[0m\u001b[1;33m\u001b[0m\u001b[1;33m\u001b[0m\u001b[0m\n\u001b[0m\u001b[0;32m     65\u001b[0m                 \u001b[0mdataset\u001b[0m\u001b[1;33m.\u001b[0m\u001b[0mupdate\u001b[0m\u001b[1;33m(\u001b[0m\u001b[1;33m{\u001b[0m\u001b[0mkey\u001b[0m\u001b[1;33m:\u001b[0m \u001b[0mnormalized\u001b[0m\u001b[1;33m}\u001b[0m\u001b[1;33m)\u001b[0m\u001b[1;33m\u001b[0m\u001b[1;33m\u001b[0m\u001b[0m\n\u001b[0;32m     66\u001b[0m \u001b[1;33m\u001b[0m\u001b[0m\n",
      "\u001b[1;32mC:\\Python39\\lib\\site-packages\\keplergl\\keplergl.py\u001b[0m in \u001b[0;36m_normalize_data\u001b[1;34m(data)\u001b[0m\n\u001b[0;32m     44\u001b[0m \u001b[1;32mdef\u001b[0m \u001b[0m_normalize_data\u001b[0m\u001b[1;33m(\u001b[0m\u001b[0mdata\u001b[0m\u001b[1;33m)\u001b[0m\u001b[1;33m:\u001b[0m\u001b[1;33m\u001b[0m\u001b[1;33m\u001b[0m\u001b[0m\n\u001b[0;32m     45\u001b[0m     \u001b[1;32mif\u001b[0m \u001b[0misinstance\u001b[0m\u001b[1;33m(\u001b[0m\u001b[0mdata\u001b[0m\u001b[1;33m,\u001b[0m \u001b[0mpd\u001b[0m\u001b[1;33m.\u001b[0m\u001b[0mDataFrame\u001b[0m\u001b[1;33m)\u001b[0m\u001b[1;33m:\u001b[0m\u001b[1;33m\u001b[0m\u001b[1;33m\u001b[0m\u001b[0m\n\u001b[1;32m---> 46\u001b[1;33m         \u001b[1;32mreturn\u001b[0m \u001b[0m_gdf_to_dict\u001b[0m\u001b[1;33m(\u001b[0m\u001b[0mdata\u001b[0m\u001b[1;33m)\u001b[0m \u001b[1;32mif\u001b[0m \u001b[0misinstance\u001b[0m\u001b[1;33m(\u001b[0m\u001b[0mdata\u001b[0m\u001b[1;33m,\u001b[0m \u001b[0mgeopandas\u001b[0m\u001b[1;33m.\u001b[0m\u001b[0mGeoDataFrame\u001b[0m\u001b[1;33m)\u001b[0m \u001b[1;32melse\u001b[0m \u001b[0m_df_to_dict\u001b[0m\u001b[1;33m(\u001b[0m\u001b[0mdata\u001b[0m\u001b[1;33m)\u001b[0m\u001b[1;33m\u001b[0m\u001b[1;33m\u001b[0m\u001b[0m\n\u001b[0m\u001b[0;32m     47\u001b[0m     \u001b[1;32mreturn\u001b[0m \u001b[0mdata\u001b[0m\u001b[1;33m\u001b[0m\u001b[1;33m\u001b[0m\u001b[0m\n\u001b[0;32m     48\u001b[0m \u001b[1;33m\u001b[0m\u001b[0m\n",
      "\u001b[1;32mC:\\Python39\\lib\\site-packages\\keplergl\\keplergl.py\u001b[0m in \u001b[0;36m_gdf_to_dict\u001b[1;34m(gdf)\u001b[0m\n\u001b[0;32m     38\u001b[0m     \u001b[0mdf\u001b[0m \u001b[1;33m=\u001b[0m \u001b[0mpd\u001b[0m\u001b[1;33m.\u001b[0m\u001b[0mDataFrame\u001b[0m\u001b[1;33m(\u001b[0m\u001b[0mgdf\u001b[0m\u001b[1;33m)\u001b[0m\u001b[1;33m\u001b[0m\u001b[1;33m\u001b[0m\u001b[0m\n\u001b[0;32m     39\u001b[0m     \u001b[1;31m# convert geometry to wkt\u001b[0m\u001b[1;33m\u001b[0m\u001b[1;33m\u001b[0m\u001b[1;33m\u001b[0m\u001b[0m\n\u001b[1;32m---> 40\u001b[1;33m     \u001b[0mdf\u001b[0m\u001b[1;33m[\u001b[0m\u001b[0mname\u001b[0m\u001b[1;33m]\u001b[0m \u001b[1;33m=\u001b[0m \u001b[0mdf\u001b[0m\u001b[1;33m.\u001b[0m\u001b[0mgeometry\u001b[0m\u001b[1;33m.\u001b[0m\u001b[0mapply\u001b[0m\u001b[1;33m(\u001b[0m\u001b[1;32mlambda\u001b[0m \u001b[0mx\u001b[0m\u001b[1;33m:\u001b[0m \u001b[0mshapely\u001b[0m\u001b[1;33m.\u001b[0m\u001b[0mwkt\u001b[0m\u001b[1;33m.\u001b[0m\u001b[0mdumps\u001b[0m\u001b[1;33m(\u001b[0m\u001b[0mx\u001b[0m\u001b[1;33m)\u001b[0m\u001b[1;33m)\u001b[0m\u001b[1;33m\u001b[0m\u001b[1;33m\u001b[0m\u001b[0m\n\u001b[0m\u001b[0;32m     41\u001b[0m \u001b[1;33m\u001b[0m\u001b[0m\n\u001b[0;32m     42\u001b[0m     \u001b[1;32mreturn\u001b[0m \u001b[0m_df_to_dict\u001b[0m\u001b[1;33m(\u001b[0m\u001b[0mdf\u001b[0m\u001b[1;33m)\u001b[0m\u001b[1;33m\u001b[0m\u001b[1;33m\u001b[0m\u001b[0m\n",
      "\u001b[1;32mC:\\Python39\\lib\\site-packages\\pandas\\core\\series.py\u001b[0m in \u001b[0;36mapply\u001b[1;34m(self, func, convert_dtype, args, **kwds)\u001b[0m\n\u001b[0;32m   4136\u001b[0m             \u001b[1;32melse\u001b[0m\u001b[1;33m:\u001b[0m\u001b[1;33m\u001b[0m\u001b[1;33m\u001b[0m\u001b[0m\n\u001b[0;32m   4137\u001b[0m                 \u001b[0mvalues\u001b[0m \u001b[1;33m=\u001b[0m \u001b[0mself\u001b[0m\u001b[1;33m.\u001b[0m\u001b[0mastype\u001b[0m\u001b[1;33m(\u001b[0m\u001b[0mobject\u001b[0m\u001b[1;33m)\u001b[0m\u001b[1;33m.\u001b[0m\u001b[0m_values\u001b[0m\u001b[1;33m\u001b[0m\u001b[1;33m\u001b[0m\u001b[0m\n\u001b[1;32m-> 4138\u001b[1;33m                 \u001b[0mmapped\u001b[0m \u001b[1;33m=\u001b[0m \u001b[0mlib\u001b[0m\u001b[1;33m.\u001b[0m\u001b[0mmap_infer\u001b[0m\u001b[1;33m(\u001b[0m\u001b[0mvalues\u001b[0m\u001b[1;33m,\u001b[0m \u001b[0mf\u001b[0m\u001b[1;33m,\u001b[0m \u001b[0mconvert\u001b[0m\u001b[1;33m=\u001b[0m\u001b[0mconvert_dtype\u001b[0m\u001b[1;33m)\u001b[0m\u001b[1;33m\u001b[0m\u001b[1;33m\u001b[0m\u001b[0m\n\u001b[0m\u001b[0;32m   4139\u001b[0m \u001b[1;33m\u001b[0m\u001b[0m\n\u001b[0;32m   4140\u001b[0m         \u001b[1;32mif\u001b[0m \u001b[0mlen\u001b[0m\u001b[1;33m(\u001b[0m\u001b[0mmapped\u001b[0m\u001b[1;33m)\u001b[0m \u001b[1;32mand\u001b[0m \u001b[0misinstance\u001b[0m\u001b[1;33m(\u001b[0m\u001b[0mmapped\u001b[0m\u001b[1;33m[\u001b[0m\u001b[1;36m0\u001b[0m\u001b[1;33m]\u001b[0m\u001b[1;33m,\u001b[0m \u001b[0mSeries\u001b[0m\u001b[1;33m)\u001b[0m\u001b[1;33m:\u001b[0m\u001b[1;33m\u001b[0m\u001b[1;33m\u001b[0m\u001b[0m\n",
      "\u001b[1;32mpandas\\_libs\\lib.pyx\u001b[0m in \u001b[0;36mpandas._libs.lib.map_infer\u001b[1;34m()\u001b[0m\n",
      "\u001b[1;32mC:\\Python39\\lib\\site-packages\\keplergl\\keplergl.py\u001b[0m in \u001b[0;36m<lambda>\u001b[1;34m(x)\u001b[0m\n\u001b[0;32m     38\u001b[0m     \u001b[0mdf\u001b[0m \u001b[1;33m=\u001b[0m \u001b[0mpd\u001b[0m\u001b[1;33m.\u001b[0m\u001b[0mDataFrame\u001b[0m\u001b[1;33m(\u001b[0m\u001b[0mgdf\u001b[0m\u001b[1;33m)\u001b[0m\u001b[1;33m\u001b[0m\u001b[1;33m\u001b[0m\u001b[0m\n\u001b[0;32m     39\u001b[0m     \u001b[1;31m# convert geometry to wkt\u001b[0m\u001b[1;33m\u001b[0m\u001b[1;33m\u001b[0m\u001b[1;33m\u001b[0m\u001b[0m\n\u001b[1;32m---> 40\u001b[1;33m     \u001b[0mdf\u001b[0m\u001b[1;33m[\u001b[0m\u001b[0mname\u001b[0m\u001b[1;33m]\u001b[0m \u001b[1;33m=\u001b[0m \u001b[0mdf\u001b[0m\u001b[1;33m.\u001b[0m\u001b[0mgeometry\u001b[0m\u001b[1;33m.\u001b[0m\u001b[0mapply\u001b[0m\u001b[1;33m(\u001b[0m\u001b[1;32mlambda\u001b[0m \u001b[0mx\u001b[0m\u001b[1;33m:\u001b[0m \u001b[0mshapely\u001b[0m\u001b[1;33m.\u001b[0m\u001b[0mwkt\u001b[0m\u001b[1;33m.\u001b[0m\u001b[0mdumps\u001b[0m\u001b[1;33m(\u001b[0m\u001b[0mx\u001b[0m\u001b[1;33m)\u001b[0m\u001b[1;33m)\u001b[0m\u001b[1;33m\u001b[0m\u001b[1;33m\u001b[0m\u001b[0m\n\u001b[0m\u001b[0;32m     41\u001b[0m \u001b[1;33m\u001b[0m\u001b[0m\n\u001b[0;32m     42\u001b[0m     \u001b[1;32mreturn\u001b[0m \u001b[0m_df_to_dict\u001b[0m\u001b[1;33m(\u001b[0m\u001b[0mdf\u001b[0m\u001b[1;33m)\u001b[0m\u001b[1;33m\u001b[0m\u001b[1;33m\u001b[0m\u001b[0m\n",
      "\u001b[1;32mC:\\Python39\\lib\\site-packages\\shapely\\wkt.py\u001b[0m in \u001b[0;36mdumps\u001b[1;34m(ob, trim, **kw)\u001b[0m\n\u001b[0;32m     60\u001b[0m     \u001b[0minput\u001b[0m \u001b[0mgeometry\u001b[0m \u001b[1;32mas\u001b[0m \u001b[0mWKT\u001b[0m \u001b[0mstring\u001b[0m\u001b[1;33m\u001b[0m\u001b[1;33m\u001b[0m\u001b[0m\n\u001b[0;32m     61\u001b[0m     \"\"\"\n\u001b[1;32m---> 62\u001b[1;33m     \u001b[1;32mreturn\u001b[0m \u001b[0mgeos\u001b[0m\u001b[1;33m.\u001b[0m\u001b[0mWKTWriter\u001b[0m\u001b[1;33m(\u001b[0m\u001b[0mgeos\u001b[0m\u001b[1;33m.\u001b[0m\u001b[0mlgeos\u001b[0m\u001b[1;33m,\u001b[0m \u001b[0mtrim\u001b[0m\u001b[1;33m=\u001b[0m\u001b[0mtrim\u001b[0m\u001b[1;33m,\u001b[0m \u001b[1;33m**\u001b[0m\u001b[0mkw\u001b[0m\u001b[1;33m)\u001b[0m\u001b[1;33m.\u001b[0m\u001b[0mwrite\u001b[0m\u001b[1;33m(\u001b[0m\u001b[0mob\u001b[0m\u001b[1;33m)\u001b[0m\u001b[1;33m\u001b[0m\u001b[1;33m\u001b[0m\u001b[0m\n\u001b[0m\u001b[0;32m     63\u001b[0m \u001b[1;33m\u001b[0m\u001b[0m\n\u001b[0;32m     64\u001b[0m \u001b[1;33m\u001b[0m\u001b[0m\n",
      "\u001b[1;32mC:\\Python39\\lib\\site-packages\\shapely\\geos.py\u001b[0m in \u001b[0;36mwrite\u001b[1;34m(self, geom)\u001b[0m\n\u001b[0;32m    395\u001b[0m     \u001b[1;32mdef\u001b[0m \u001b[0mwrite\u001b[0m\u001b[1;33m(\u001b[0m\u001b[0mself\u001b[0m\u001b[1;33m,\u001b[0m \u001b[0mgeom\u001b[0m\u001b[1;33m)\u001b[0m\u001b[1;33m:\u001b[0m\u001b[1;33m\u001b[0m\u001b[1;33m\u001b[0m\u001b[0m\n\u001b[0;32m    396\u001b[0m         \u001b[1;34m\"\"\"Returns WKT string for geometry\"\"\"\u001b[0m\u001b[1;33m\u001b[0m\u001b[1;33m\u001b[0m\u001b[0m\n\u001b[1;32m--> 397\u001b[1;33m         \u001b[1;32mif\u001b[0m \u001b[0mgeom\u001b[0m \u001b[1;32mis\u001b[0m \u001b[1;32mNone\u001b[0m \u001b[1;32mor\u001b[0m \u001b[0mgeom\u001b[0m\u001b[1;33m.\u001b[0m\u001b[0m_geom\u001b[0m \u001b[1;32mis\u001b[0m \u001b[1;32mNone\u001b[0m\u001b[1;33m:\u001b[0m\u001b[1;33m\u001b[0m\u001b[1;33m\u001b[0m\u001b[0m\n\u001b[0m\u001b[0;32m    398\u001b[0m             \u001b[1;32mraise\u001b[0m \u001b[0mValueError\u001b[0m\u001b[1;33m(\u001b[0m\u001b[1;34m\"Null geometry supports no operations\"\u001b[0m\u001b[1;33m)\u001b[0m\u001b[1;33m\u001b[0m\u001b[1;33m\u001b[0m\u001b[0m\n\u001b[0;32m    399\u001b[0m         \u001b[0mresult\u001b[0m \u001b[1;33m=\u001b[0m \u001b[0mself\u001b[0m\u001b[1;33m.\u001b[0m\u001b[0m_lgeos\u001b[0m\u001b[1;33m.\u001b[0m\u001b[0mGEOSWKTWriter_write\u001b[0m\u001b[1;33m(\u001b[0m\u001b[0mself\u001b[0m\u001b[1;33m.\u001b[0m\u001b[0m_writer\u001b[0m\u001b[1;33m,\u001b[0m \u001b[0mgeom\u001b[0m\u001b[1;33m.\u001b[0m\u001b[0m_geom\u001b[0m\u001b[1;33m)\u001b[0m\u001b[1;33m\u001b[0m\u001b[1;33m\u001b[0m\u001b[0m\n",
      "\u001b[1;31mAttributeError\u001b[0m: 'str' object has no attribute '_geom'"
     ]
    }
   ],
   "source": [
    "m.save_to_html(file_name=\"my_keplergl_map.html\")"
   ]
  },
  {
   "cell_type": "code",
   "execution_count": 45,
   "metadata": {},
   "outputs": [
    {
     "output_type": "execute_result",
     "data": {
      "text/plain": [
       "14791    LINESTRING (16.4207226518223024 48.24014860888...\n",
       "52175    LINESTRING (16.2813444855260769 48.24261886780...\n",
       "9594     LINESTRING (16.2836586907691512 48.17691739956...\n",
       "19781    LINESTRING (16.2879795787221440 48.23686298545...\n",
       "30116    LINESTRING (16.4470951838153958 48.19572566703...\n",
       "                               ...                        \n",
       "50920    LINESTRING (16.3916022605632641 48.20243412525...\n",
       "50915    LINESTRING (16.3916232679904539 48.21908910343...\n",
       "50909    LINESTRING (16.3601232512181163 48.20894198974...\n",
       "50907    LINESTRING (16.3855086768048537 48.21527181586...\n",
       "42246    LINESTRING (16.3618067893964998 48.21373100000...\n",
       "Name: geometry, Length: 62096, dtype: object"
      ]
     },
     "metadata": {},
     "execution_count": 45
    }
   ],
   "source": [
    "seg_freq.geometry"
   ]
  },
  {
   "cell_type": "code",
   "execution_count": 20,
   "metadata": {},
   "outputs": [],
   "source": [
    "import geopandas\n",
    "file_name = 'stop_frequencies'\n",
    "gtfs.save_gdf(stop_freq, file_name, shapefile=True, geojson=True)"
   ]
  },
  {
   "cell_type": "code",
   "execution_count": 35,
   "metadata": {},
   "outputs": [
    {
     "output_type": "execute_result",
     "data": {
      "text/plain": [
       "{'version': 'v1',\n",
       " 'config': {'visState': {'filters': [{'dataId': ['data'],\n",
       "     'id': '8nl9zv9wt',\n",
       "     'name': ['window'],\n",
       "     'type': 'timeRange',\n",
       "     'value': [1622897568000, 1622961721000],\n",
       "     'enlarged': False,\n",
       "     'plotType': 'histogram',\n",
       "     'animationWindow': 'free',\n",
       "     'yAxis': None}],\n",
       "   'layers': [{'id': 'anrallo',\n",
       "     'type': 'geojson',\n",
       "     'config': {'dataId': 'data',\n",
       "      'label': 'data',\n",
       "      'color': [18, 147, 154],\n",
       "      'columns': {'geojson': 'geometry'},\n",
       "      'isVisible': True,\n",
       "      'visConfig': {'opacity': 0.8,\n",
       "       'strokeOpacity': 0.8,\n",
       "       'thickness': 0.5,\n",
       "       'strokeColor': [248, 149, 112],\n",
       "       'colorRange': {'name': 'Global Warming',\n",
       "        'type': 'sequential',\n",
       "        'category': 'Uber',\n",
       "        'colors': ['#5A1846',\n",
       "         '#900C3F',\n",
       "         '#C70039',\n",
       "         '#E3611C',\n",
       "         '#F1920E',\n",
       "         '#FFC300']},\n",
       "       'strokeColorRange': {'name': 'Global Warming',\n",
       "        'type': 'sequential',\n",
       "        'category': 'Uber',\n",
       "        'colors': ['#5A1846',\n",
       "         '#900C3F',\n",
       "         '#C70039',\n",
       "         '#E3611C',\n",
       "         '#F1920E',\n",
       "         '#FFC300']},\n",
       "       'radius': 10,\n",
       "       'sizeRange': [0, 10],\n",
       "       'radiusRange': [0, 50],\n",
       "       'heightRange': [0, 500],\n",
       "       'elevationScale': 5,\n",
       "       'stroked': True,\n",
       "       'filled': False,\n",
       "       'enable3d': False,\n",
       "       'wireframe': False},\n",
       "      'hidden': False,\n",
       "      'textLabel': [{'field': None,\n",
       "        'color': [255, 255, 255],\n",
       "        'size': 18,\n",
       "        'offset': [0, 0],\n",
       "        'anchor': 'start',\n",
       "        'alignment': 'center'}]},\n",
       "     'visualChannels': {'colorField': None,\n",
       "      'colorScale': 'quantile',\n",
       "      'sizeField': None,\n",
       "      'sizeScale': 'linear',\n",
       "      'strokeColorField': {'name': 'frequency', 'type': 'integer'},\n",
       "      'strokeColorScale': 'quantile',\n",
       "      'heightField': None,\n",
       "      'heightScale': 'linear',\n",
       "      'radiusField': None,\n",
       "      'radiusScale': 'linear'}}],\n",
       "   'interactionConfig': {'tooltip': {'fieldsToShow': {'data': [{'name': 'route_id',\n",
       "        'format': None},\n",
       "       {'name': 'route_name', 'format': None},\n",
       "       {'name': 'dir_id', 'format': None},\n",
       "       {'name': 'segment_id', 'format': None},\n",
       "       {'name': 'window', 'format': None}]},\n",
       "     'compareMode': False,\n",
       "     'compareType': 'absolute',\n",
       "     'enabled': True},\n",
       "    'brush': {'size': 0.5, 'enabled': False},\n",
       "    'geocoder': {'enabled': False},\n",
       "    'coordinate': {'enabled': False}},\n",
       "   'layerBlending': 'normal',\n",
       "   'splitMaps': [],\n",
       "   'animationConfig': {'currentTime': None, 'speed': 1}},\n",
       "  'mapState': {'bearing': 0,\n",
       "   'dragRotate': False,\n",
       "   'latitude': 48.25050606435131,\n",
       "   'longitude': 16.4497326741563,\n",
       "   'pitch': 0,\n",
       "   'zoom': 13.288353501501712,\n",
       "   'isSplit': False},\n",
       "  'mapStyle': {'styleType': 'dark',\n",
       "   'topLayerGroups': {},\n",
       "   'visibleLayerGroups': {'label': True,\n",
       "    'road': True,\n",
       "    'border': False,\n",
       "    'building': True,\n",
       "    'water': True,\n",
       "    'land': True,\n",
       "    '3d building': False},\n",
       "   'threeDBuildingColor': [9.665468314072013,\n",
       "    17.18305478057247,\n",
       "    31.1442867897876],\n",
       "   'mapStyles': {}}}}"
      ]
     },
     "metadata": {},
     "execution_count": 35
    }
   ],
   "source": [
    "m.config"
   ]
  },
  {
   "cell_type": "code",
   "execution_count": 21,
   "metadata": {},
   "outputs": [
    {
     "output_type": "error",
     "ename": "AttributeError",
     "evalue": "'Series' object has no attribute 'has_z'",
     "traceback": [
      "\u001b[1;31m---------------------------------------------------------------------------\u001b[0m",
      "\u001b[1;31mAttributeError\u001b[0m                            Traceback (most recent call last)",
      "\u001b[1;32m<ipython-input-21-e03a9c242f11>\u001b[0m in \u001b[0;36m<module>\u001b[1;34m\u001b[0m\n\u001b[0;32m      1\u001b[0m \u001b[0mfile_name\u001b[0m \u001b[1;33m=\u001b[0m \u001b[1;34m'segment_frequencies'\u001b[0m\u001b[1;33m\u001b[0m\u001b[1;33m\u001b[0m\u001b[0m\n\u001b[1;32m----> 2\u001b[1;33m \u001b[0mgtfs\u001b[0m\u001b[1;33m.\u001b[0m\u001b[0msave_gdf\u001b[0m\u001b[1;33m(\u001b[0m\u001b[0mseg_freq\u001b[0m\u001b[1;33m,\u001b[0m \u001b[0mfile_name\u001b[0m\u001b[1;33m,\u001b[0m \u001b[0mshapefile\u001b[0m\u001b[1;33m=\u001b[0m\u001b[1;32mTrue\u001b[0m\u001b[1;33m,\u001b[0m \u001b[0mgeojson\u001b[0m\u001b[1;33m=\u001b[0m\u001b[1;32mTrue\u001b[0m\u001b[1;33m)\u001b[0m\u001b[1;33m\u001b[0m\u001b[1;33m\u001b[0m\u001b[0m\n\u001b[0m",
      "\u001b[1;32mC:\\Python39\\lib\\site-packages\\gtfs_functions\\gtfs_funtions.py\u001b[0m in \u001b[0;36msave_gdf\u001b[1;34m(data, file_name, geojson, shapefile)\u001b[0m\n\u001b[0;32m     19\u001b[0m     \u001b[1;31m# -------------------------------------------------------\u001b[0m\u001b[1;33m\u001b[0m\u001b[1;33m\u001b[0m\u001b[1;33m\u001b[0m\u001b[0m\n\u001b[0;32m     20\u001b[0m     \u001b[1;32mif\u001b[0m \u001b[0mgeojson\u001b[0m\u001b[1;33m:\u001b[0m\u001b[1;33m\u001b[0m\u001b[1;33m\u001b[0m\u001b[0m\n\u001b[1;32m---> 21\u001b[1;33m         data.to_file(\n\u001b[0m\u001b[0;32m     22\u001b[0m             \u001b[0mfilename\u001b[0m \u001b[1;33m=\u001b[0m \u001b[0mgeojson_path\u001b[0m\u001b[1;33m,\u001b[0m\u001b[1;33m\u001b[0m\u001b[1;33m\u001b[0m\u001b[0m\n\u001b[0;32m     23\u001b[0m             \u001b[0mdriver\u001b[0m\u001b[1;33m=\u001b[0m\u001b[1;34m\"GeoJSON\"\u001b[0m\u001b[1;33m\u001b[0m\u001b[1;33m\u001b[0m\u001b[0m\n",
      "\u001b[1;32mC:\\Python39\\lib\\site-packages\\geopandas\\geodataframe.py\u001b[0m in \u001b[0;36mto_file\u001b[1;34m(self, filename, driver, schema, index, **kwargs)\u001b[0m\n\u001b[0;32m   1084\u001b[0m         \u001b[1;32mfrom\u001b[0m \u001b[0mgeopandas\u001b[0m\u001b[1;33m.\u001b[0m\u001b[0mio\u001b[0m\u001b[1;33m.\u001b[0m\u001b[0mfile\u001b[0m \u001b[1;32mimport\u001b[0m \u001b[0m_to_file\u001b[0m\u001b[1;33m\u001b[0m\u001b[1;33m\u001b[0m\u001b[0m\n\u001b[0;32m   1085\u001b[0m \u001b[1;33m\u001b[0m\u001b[0m\n\u001b[1;32m-> 1086\u001b[1;33m         \u001b[0m_to_file\u001b[0m\u001b[1;33m(\u001b[0m\u001b[0mself\u001b[0m\u001b[1;33m,\u001b[0m \u001b[0mfilename\u001b[0m\u001b[1;33m,\u001b[0m \u001b[0mdriver\u001b[0m\u001b[1;33m,\u001b[0m \u001b[0mschema\u001b[0m\u001b[1;33m,\u001b[0m \u001b[0mindex\u001b[0m\u001b[1;33m,\u001b[0m \u001b[1;33m**\u001b[0m\u001b[0mkwargs\u001b[0m\u001b[1;33m)\u001b[0m\u001b[1;33m\u001b[0m\u001b[1;33m\u001b[0m\u001b[0m\n\u001b[0m\u001b[0;32m   1087\u001b[0m \u001b[1;33m\u001b[0m\u001b[0m\n\u001b[0;32m   1088\u001b[0m     \u001b[1;32mdef\u001b[0m \u001b[0mset_crs\u001b[0m\u001b[1;33m(\u001b[0m\u001b[0mself\u001b[0m\u001b[1;33m,\u001b[0m \u001b[0mcrs\u001b[0m\u001b[1;33m=\u001b[0m\u001b[1;32mNone\u001b[0m\u001b[1;33m,\u001b[0m \u001b[0mepsg\u001b[0m\u001b[1;33m=\u001b[0m\u001b[1;32mNone\u001b[0m\u001b[1;33m,\u001b[0m \u001b[0minplace\u001b[0m\u001b[1;33m=\u001b[0m\u001b[1;32mFalse\u001b[0m\u001b[1;33m,\u001b[0m \u001b[0mallow_override\u001b[0m\u001b[1;33m=\u001b[0m\u001b[1;32mFalse\u001b[0m\u001b[1;33m)\u001b[0m\u001b[1;33m:\u001b[0m\u001b[1;33m\u001b[0m\u001b[1;33m\u001b[0m\u001b[0m\n",
      "\u001b[1;32mC:\\Python39\\lib\\site-packages\\geopandas\\io\\file.py\u001b[0m in \u001b[0;36m_to_file\u001b[1;34m(df, filename, driver, schema, index, mode, crs, **kwargs)\u001b[0m\n\u001b[0;32m    302\u001b[0m         \u001b[0mdf\u001b[0m \u001b[1;33m=\u001b[0m \u001b[0mdf\u001b[0m\u001b[1;33m.\u001b[0m\u001b[0mreset_index\u001b[0m\u001b[1;33m(\u001b[0m\u001b[0mdrop\u001b[0m\u001b[1;33m=\u001b[0m\u001b[1;32mFalse\u001b[0m\u001b[1;33m)\u001b[0m\u001b[1;33m\u001b[0m\u001b[1;33m\u001b[0m\u001b[0m\n\u001b[0;32m    303\u001b[0m     \u001b[1;32mif\u001b[0m \u001b[0mschema\u001b[0m \u001b[1;32mis\u001b[0m \u001b[1;32mNone\u001b[0m\u001b[1;33m:\u001b[0m\u001b[1;33m\u001b[0m\u001b[1;33m\u001b[0m\u001b[0m\n\u001b[1;32m--> 304\u001b[1;33m         \u001b[0mschema\u001b[0m \u001b[1;33m=\u001b[0m \u001b[0minfer_schema\u001b[0m\u001b[1;33m(\u001b[0m\u001b[0mdf\u001b[0m\u001b[1;33m)\u001b[0m\u001b[1;33m\u001b[0m\u001b[1;33m\u001b[0m\u001b[0m\n\u001b[0m\u001b[0;32m    305\u001b[0m     \u001b[1;32mif\u001b[0m \u001b[0mcrs\u001b[0m\u001b[1;33m:\u001b[0m\u001b[1;33m\u001b[0m\u001b[1;33m\u001b[0m\u001b[0m\n\u001b[0;32m    306\u001b[0m         \u001b[0mcrs\u001b[0m \u001b[1;33m=\u001b[0m \u001b[0mpyproj\u001b[0m\u001b[1;33m.\u001b[0m\u001b[0mCRS\u001b[0m\u001b[1;33m.\u001b[0m\u001b[0mfrom_user_input\u001b[0m\u001b[1;33m(\u001b[0m\u001b[0mcrs\u001b[0m\u001b[1;33m)\u001b[0m\u001b[1;33m\u001b[0m\u001b[1;33m\u001b[0m\u001b[0m\n",
      "\u001b[1;32mC:\\Python39\\lib\\site-packages\\geopandas\\io\\file.py\u001b[0m in \u001b[0;36minfer_schema\u001b[1;34m(df)\u001b[0m\n\u001b[0;32m    364\u001b[0m     \u001b[1;31m# Since https://github.com/Toblerity/Fiona/issues/446 resolution,\u001b[0m\u001b[1;33m\u001b[0m\u001b[1;33m\u001b[0m\u001b[1;33m\u001b[0m\u001b[0m\n\u001b[0;32m    365\u001b[0m     \u001b[1;31m# Fiona allows a list of geometry types\u001b[0m\u001b[1;33m\u001b[0m\u001b[1;33m\u001b[0m\u001b[1;33m\u001b[0m\u001b[0m\n\u001b[1;32m--> 366\u001b[1;33m     \u001b[0mgeom_types\u001b[0m \u001b[1;33m=\u001b[0m \u001b[0m_geometry_types\u001b[0m\u001b[1;33m(\u001b[0m\u001b[0mdf\u001b[0m\u001b[1;33m)\u001b[0m\u001b[1;33m\u001b[0m\u001b[1;33m\u001b[0m\u001b[0m\n\u001b[0m\u001b[0;32m    367\u001b[0m \u001b[1;33m\u001b[0m\u001b[0m\n\u001b[0;32m    368\u001b[0m     \u001b[0mschema\u001b[0m \u001b[1;33m=\u001b[0m \u001b[1;33m{\u001b[0m\u001b[1;34m\"geometry\"\u001b[0m\u001b[1;33m:\u001b[0m \u001b[0mgeom_types\u001b[0m\u001b[1;33m,\u001b[0m \u001b[1;34m\"properties\"\u001b[0m\u001b[1;33m:\u001b[0m \u001b[0mproperties\u001b[0m\u001b[1;33m}\u001b[0m\u001b[1;33m\u001b[0m\u001b[1;33m\u001b[0m\u001b[0m\n",
      "\u001b[1;32mC:\\Python39\\lib\\site-packages\\geopandas\\io\\file.py\u001b[0m in \u001b[0;36m_geometry_types\u001b[1;34m(df)\u001b[0m\n\u001b[0;32m    375\u001b[0m     \u001b[0mDetermine\u001b[0m \u001b[0mthe\u001b[0m \u001b[0mgeometry\u001b[0m \u001b[0mtypes\u001b[0m \u001b[1;32min\u001b[0m \u001b[0mthe\u001b[0m \u001b[0mGeoDataFrame\u001b[0m \u001b[1;32mfor\u001b[0m \u001b[0mthe\u001b[0m \u001b[0mschema\u001b[0m\u001b[1;33m.\u001b[0m\u001b[1;33m\u001b[0m\u001b[1;33m\u001b[0m\u001b[0m\n\u001b[0;32m    376\u001b[0m     \"\"\"\n\u001b[1;32m--> 377\u001b[1;33m     \u001b[0mgeom_types_2D\u001b[0m \u001b[1;33m=\u001b[0m \u001b[0mdf\u001b[0m\u001b[1;33m[\u001b[0m\u001b[1;33m~\u001b[0m\u001b[0mdf\u001b[0m\u001b[1;33m.\u001b[0m\u001b[0mgeometry\u001b[0m\u001b[1;33m.\u001b[0m\u001b[0mhas_z\u001b[0m\u001b[1;33m]\u001b[0m\u001b[1;33m.\u001b[0m\u001b[0mgeometry\u001b[0m\u001b[1;33m.\u001b[0m\u001b[0mgeom_type\u001b[0m\u001b[1;33m.\u001b[0m\u001b[0munique\u001b[0m\u001b[1;33m(\u001b[0m\u001b[1;33m)\u001b[0m\u001b[1;33m\u001b[0m\u001b[1;33m\u001b[0m\u001b[0m\n\u001b[0m\u001b[0;32m    378\u001b[0m     \u001b[0mgeom_types_2D\u001b[0m \u001b[1;33m=\u001b[0m \u001b[1;33m[\u001b[0m\u001b[0mgtype\u001b[0m \u001b[1;32mfor\u001b[0m \u001b[0mgtype\u001b[0m \u001b[1;32min\u001b[0m \u001b[0mgeom_types_2D\u001b[0m \u001b[1;32mif\u001b[0m \u001b[0mgtype\u001b[0m \u001b[1;32mis\u001b[0m \u001b[1;32mnot\u001b[0m \u001b[1;32mNone\u001b[0m\u001b[1;33m]\u001b[0m\u001b[1;33m\u001b[0m\u001b[1;33m\u001b[0m\u001b[0m\n\u001b[0;32m    379\u001b[0m     \u001b[0mgeom_types_3D\u001b[0m \u001b[1;33m=\u001b[0m \u001b[0mdf\u001b[0m\u001b[1;33m[\u001b[0m\u001b[0mdf\u001b[0m\u001b[1;33m.\u001b[0m\u001b[0mgeometry\u001b[0m\u001b[1;33m.\u001b[0m\u001b[0mhas_z\u001b[0m\u001b[1;33m]\u001b[0m\u001b[1;33m.\u001b[0m\u001b[0mgeometry\u001b[0m\u001b[1;33m.\u001b[0m\u001b[0mgeom_type\u001b[0m\u001b[1;33m.\u001b[0m\u001b[0munique\u001b[0m\u001b[1;33m(\u001b[0m\u001b[1;33m)\u001b[0m\u001b[1;33m\u001b[0m\u001b[1;33m\u001b[0m\u001b[0m\n",
      "\u001b[1;32mC:\\Python39\\lib\\site-packages\\pandas\\core\\generic.py\u001b[0m in \u001b[0;36m__getattr__\u001b[1;34m(self, name)\u001b[0m\n\u001b[0;32m   5463\u001b[0m             \u001b[1;32mif\u001b[0m \u001b[0mself\u001b[0m\u001b[1;33m.\u001b[0m\u001b[0m_info_axis\u001b[0m\u001b[1;33m.\u001b[0m\u001b[0m_can_hold_identifiers_and_holds_name\u001b[0m\u001b[1;33m(\u001b[0m\u001b[0mname\u001b[0m\u001b[1;33m)\u001b[0m\u001b[1;33m:\u001b[0m\u001b[1;33m\u001b[0m\u001b[1;33m\u001b[0m\u001b[0m\n\u001b[0;32m   5464\u001b[0m                 \u001b[1;32mreturn\u001b[0m \u001b[0mself\u001b[0m\u001b[1;33m[\u001b[0m\u001b[0mname\u001b[0m\u001b[1;33m]\u001b[0m\u001b[1;33m\u001b[0m\u001b[1;33m\u001b[0m\u001b[0m\n\u001b[1;32m-> 5465\u001b[1;33m             \u001b[1;32mreturn\u001b[0m \u001b[0mobject\u001b[0m\u001b[1;33m.\u001b[0m\u001b[0m__getattribute__\u001b[0m\u001b[1;33m(\u001b[0m\u001b[0mself\u001b[0m\u001b[1;33m,\u001b[0m \u001b[0mname\u001b[0m\u001b[1;33m)\u001b[0m\u001b[1;33m\u001b[0m\u001b[1;33m\u001b[0m\u001b[0m\n\u001b[0m\u001b[0;32m   5466\u001b[0m \u001b[1;33m\u001b[0m\u001b[0m\n\u001b[0;32m   5467\u001b[0m     \u001b[1;32mdef\u001b[0m \u001b[0m__setattr__\u001b[0m\u001b[1;33m(\u001b[0m\u001b[0mself\u001b[0m\u001b[1;33m,\u001b[0m \u001b[0mname\u001b[0m\u001b[1;33m:\u001b[0m \u001b[0mstr\u001b[0m\u001b[1;33m,\u001b[0m \u001b[0mvalue\u001b[0m\u001b[1;33m)\u001b[0m \u001b[1;33m->\u001b[0m \u001b[1;32mNone\u001b[0m\u001b[1;33m:\u001b[0m\u001b[1;33m\u001b[0m\u001b[1;33m\u001b[0m\u001b[0m\n",
      "\u001b[1;31mAttributeError\u001b[0m: 'Series' object has no attribute 'has_z'"
     ]
    }
   ],
   "source": [
    "file_name = 'segment_frequencies'\n",
    "gtfs.save_gdf(seg_freq, file_name, shapefile=True, geojson=True)"
   ]
  },
  {
   "cell_type": "code",
   "execution_count": 23,
   "metadata": {},
   "outputs": [
    {
     "output_type": "error",
     "ename": "AttributeError",
     "evalue": "'GeoDataFrame' object has no attribute 'gpd'",
     "traceback": [
      "\u001b[1;31m---------------------------------------------------------------------------\u001b[0m",
      "\u001b[1;31mAttributeError\u001b[0m                            Traceback (most recent call last)",
      "\u001b[1;32m<ipython-input-23-269092391c71>\u001b[0m in \u001b[0;36m<module>\u001b[1;34m\u001b[0m\n\u001b[0;32m      1\u001b[0m \u001b[1;32mimport\u001b[0m \u001b[0mgeopandas\u001b[0m \u001b[1;32mas\u001b[0m \u001b[0mgpd\u001b[0m\u001b[1;33m\u001b[0m\u001b[1;33m\u001b[0m\u001b[0m\n\u001b[1;32m----> 2\u001b[1;33m \u001b[0mseg_freq\u001b[0m\u001b[1;33m.\u001b[0m\u001b[0mgpd\u001b[0m\u001b[1;33m.\u001b[0m\u001b[0mto_file\u001b[0m\u001b[1;33m(\u001b[0m\u001b[1;34m\"countries.geojson\"\u001b[0m\u001b[1;33m,\u001b[0m \u001b[0mdriver\u001b[0m\u001b[1;33m=\u001b[0m\u001b[1;34m'GeoJSON'\u001b[0m\u001b[1;33m)\u001b[0m\u001b[1;33m\u001b[0m\u001b[1;33m\u001b[0m\u001b[0m\n\u001b[0m",
      "\u001b[1;32mC:\\Python39\\lib\\site-packages\\pandas\\core\\generic.py\u001b[0m in \u001b[0;36m__getattr__\u001b[1;34m(self, name)\u001b[0m\n\u001b[0;32m   5463\u001b[0m             \u001b[1;32mif\u001b[0m \u001b[0mself\u001b[0m\u001b[1;33m.\u001b[0m\u001b[0m_info_axis\u001b[0m\u001b[1;33m.\u001b[0m\u001b[0m_can_hold_identifiers_and_holds_name\u001b[0m\u001b[1;33m(\u001b[0m\u001b[0mname\u001b[0m\u001b[1;33m)\u001b[0m\u001b[1;33m:\u001b[0m\u001b[1;33m\u001b[0m\u001b[1;33m\u001b[0m\u001b[0m\n\u001b[0;32m   5464\u001b[0m                 \u001b[1;32mreturn\u001b[0m \u001b[0mself\u001b[0m\u001b[1;33m[\u001b[0m\u001b[0mname\u001b[0m\u001b[1;33m]\u001b[0m\u001b[1;33m\u001b[0m\u001b[1;33m\u001b[0m\u001b[0m\n\u001b[1;32m-> 5465\u001b[1;33m             \u001b[1;32mreturn\u001b[0m \u001b[0mobject\u001b[0m\u001b[1;33m.\u001b[0m\u001b[0m__getattribute__\u001b[0m\u001b[1;33m(\u001b[0m\u001b[0mself\u001b[0m\u001b[1;33m,\u001b[0m \u001b[0mname\u001b[0m\u001b[1;33m)\u001b[0m\u001b[1;33m\u001b[0m\u001b[1;33m\u001b[0m\u001b[0m\n\u001b[0m\u001b[0;32m   5466\u001b[0m \u001b[1;33m\u001b[0m\u001b[0m\n\u001b[0;32m   5467\u001b[0m     \u001b[1;32mdef\u001b[0m \u001b[0m__setattr__\u001b[0m\u001b[1;33m(\u001b[0m\u001b[0mself\u001b[0m\u001b[1;33m,\u001b[0m \u001b[0mname\u001b[0m\u001b[1;33m:\u001b[0m \u001b[0mstr\u001b[0m\u001b[1;33m,\u001b[0m \u001b[0mvalue\u001b[0m\u001b[1;33m)\u001b[0m \u001b[1;33m->\u001b[0m \u001b[1;32mNone\u001b[0m\u001b[1;33m:\u001b[0m\u001b[1;33m\u001b[0m\u001b[1;33m\u001b[0m\u001b[0m\n",
      "\u001b[1;31mAttributeError\u001b[0m: 'GeoDataFrame' object has no attribute 'gpd'"
     ]
    }
   ],
   "source": [
    "import geopandas as gpd\n",
    "seg_freq.gpd.to_file(\"countries.geojson\", driver='GeoJSON')"
   ]
  },
  {
   "cell_type": "code",
   "execution_count": 19,
   "metadata": {},
   "outputs": [
    {
     "output_type": "execute_result",
     "data": {
      "text/plain": [
       "             stop_id    dir_id     window  ntrips  frequency  max_trips  \\\n",
       "19848   at:49:57:0:2  Outbound  0:00-6:00       1        360          2   \n",
       "13504  at:49:217:0:3   Inbound  0:00-6:00       1        360          8   \n",
       "\n",
       "       max_freq         stop_name                   geometry  \n",
       "19848        30          Ammerweg  POINT (16.26037 48.21841)  \n",
       "13504         7  Czartoryskigasse  POINT (16.32719 48.22802)  "
      ],
      "text/html": "<div>\n<style scoped>\n    .dataframe tbody tr th:only-of-type {\n        vertical-align: middle;\n    }\n\n    .dataframe tbody tr th {\n        vertical-align: top;\n    }\n\n    .dataframe thead th {\n        text-align: right;\n    }\n</style>\n<table border=\"1\" class=\"dataframe\">\n  <thead>\n    <tr style=\"text-align: right;\">\n      <th></th>\n      <th>stop_id</th>\n      <th>dir_id</th>\n      <th>window</th>\n      <th>ntrips</th>\n      <th>frequency</th>\n      <th>max_trips</th>\n      <th>max_freq</th>\n      <th>stop_name</th>\n      <th>geometry</th>\n    </tr>\n  </thead>\n  <tbody>\n    <tr>\n      <th>19848</th>\n      <td>at:49:57:0:2</td>\n      <td>Outbound</td>\n      <td>0:00-6:00</td>\n      <td>1</td>\n      <td>360</td>\n      <td>2</td>\n      <td>30</td>\n      <td>Ammerweg</td>\n      <td>POINT (16.26037 48.21841)</td>\n    </tr>\n    <tr>\n      <th>13504</th>\n      <td>at:49:217:0:3</td>\n      <td>Inbound</td>\n      <td>0:00-6:00</td>\n      <td>1</td>\n      <td>360</td>\n      <td>8</td>\n      <td>7</td>\n      <td>Czartoryskigasse</td>\n      <td>POINT (16.32719 48.22802)</td>\n    </tr>\n  </tbody>\n</table>\n</div>"
     },
     "metadata": {},
     "execution_count": 19
    }
   ],
   "source": [
    "cutoffs = [0,6,9,15.5,19,22,24]\n",
    "stop_freq = gtfs.stops_freq(stop_times, stops, cutoffs = cutoffs)\n",
    "stop_freq.head(2)"
   ]
  },
  {
   "cell_type": "code",
   "execution_count": 26,
   "metadata": {},
   "outputs": [
    {
     "output_type": "execute_result",
     "data": {
      "text/plain": [
       "             route_id                                         route_name  \\\n",
       "14791    23-20A-j20-1  20A Kaisermühlen-VIC - Neue Donau (- Floridsdorf)   \n",
       "52175       ALL_LINES                                          All lines   \n",
       "9594      22-52-j20-1  52 Westbahnhof - Baumgarten gültig bis 03.07 u...   \n",
       "19781  23-43A-S-j20-1  43A Neuwaldegg - Cobenzl Parkplatz Sommerfahrplan   \n",
       "30116  23-79B-U-j20-1  79B Donaumarina - Kaiserebersdorf, Zinnergasse...   \n",
       "\n",
       "         dir_id                    segment_id     window  frequency  ntrips  \\\n",
       "14791   Inbound  at:49:185:0:1-at:49:1329:0:1  0:00-6:00        360       1   \n",
       "52175        NA    at:49:85:0:2-at:49:936:0:1  0:00-6:00        360       1   \n",
       "9594   Outbound  at:49:589:0:1-at:49:1304:0:1  0:00-6:00        360       1   \n",
       "19781  Outbound  at:49:1806:0:2-at:49:935:0:1  0:00-6:00        360       1   \n",
       "30116  Outbound  at:49:320:0:2-at:49:1301:0:3  0:00-6:00        360       1   \n",
       "\n",
       "              s_st_id            s_st_name              e_st_name  max_freq  \\\n",
       "14791   at:49:185:0:1       Bundessportbad   Strandbad Alte Donau        30   \n",
       "52175    at:49:85:0:2        Artariastraße  Höhenstraße/Marswiese        16   \n",
       "9594    at:49:589:0:1      Jagdschloßgasse           Stadlergasse        60   \n",
       "19781  at:49:1806:0:2  Neuwaldegger Straße             Neuwaldegg        15   \n",
       "30116   at:49:320:0:2      Dammhaufengasse            Praterkai S        30   \n",
       "\n",
       "       max_trips                                           geometry  \n",
       "14791          2  LINESTRING (16.4207226518223024 48.24014860888...  \n",
       "52175         15  LINESTRING (16.2813444855260769 48.24261886780...  \n",
       "9594           1  LINESTRING (16.2836586907691512 48.17691739956...  \n",
       "19781          4  LINESTRING (16.2879795787221440 48.23686298545...  \n",
       "30116          2  LINESTRING (16.4470951838153958 48.19572566703...  "
      ],
      "text/html": "<div>\n<style scoped>\n    .dataframe tbody tr th:only-of-type {\n        vertical-align: middle;\n    }\n\n    .dataframe tbody tr th {\n        vertical-align: top;\n    }\n\n    .dataframe thead th {\n        text-align: right;\n    }\n</style>\n<table border=\"1\" class=\"dataframe\">\n  <thead>\n    <tr style=\"text-align: right;\">\n      <th></th>\n      <th>route_id</th>\n      <th>route_name</th>\n      <th>dir_id</th>\n      <th>segment_id</th>\n      <th>window</th>\n      <th>frequency</th>\n      <th>ntrips</th>\n      <th>s_st_id</th>\n      <th>s_st_name</th>\n      <th>e_st_name</th>\n      <th>max_freq</th>\n      <th>max_trips</th>\n      <th>geometry</th>\n    </tr>\n  </thead>\n  <tbody>\n    <tr>\n      <th>14791</th>\n      <td>23-20A-j20-1</td>\n      <td>20A Kaisermühlen-VIC - Neue Donau (- Floridsdorf)</td>\n      <td>Inbound</td>\n      <td>at:49:185:0:1-at:49:1329:0:1</td>\n      <td>0:00-6:00</td>\n      <td>360</td>\n      <td>1</td>\n      <td>at:49:185:0:1</td>\n      <td>Bundessportbad</td>\n      <td>Strandbad Alte Donau</td>\n      <td>30</td>\n      <td>2</td>\n      <td>LINESTRING (16.4207226518223024 48.24014860888...</td>\n    </tr>\n    <tr>\n      <th>52175</th>\n      <td>ALL_LINES</td>\n      <td>All lines</td>\n      <td>NA</td>\n      <td>at:49:85:0:2-at:49:936:0:1</td>\n      <td>0:00-6:00</td>\n      <td>360</td>\n      <td>1</td>\n      <td>at:49:85:0:2</td>\n      <td>Artariastraße</td>\n      <td>Höhenstraße/Marswiese</td>\n      <td>16</td>\n      <td>15</td>\n      <td>LINESTRING (16.2813444855260769 48.24261886780...</td>\n    </tr>\n    <tr>\n      <th>9594</th>\n      <td>22-52-j20-1</td>\n      <td>52 Westbahnhof - Baumgarten gültig bis 03.07 u...</td>\n      <td>Outbound</td>\n      <td>at:49:589:0:1-at:49:1304:0:1</td>\n      <td>0:00-6:00</td>\n      <td>360</td>\n      <td>1</td>\n      <td>at:49:589:0:1</td>\n      <td>Jagdschloßgasse</td>\n      <td>Stadlergasse</td>\n      <td>60</td>\n      <td>1</td>\n      <td>LINESTRING (16.2836586907691512 48.17691739956...</td>\n    </tr>\n    <tr>\n      <th>19781</th>\n      <td>23-43A-S-j20-1</td>\n      <td>43A Neuwaldegg - Cobenzl Parkplatz Sommerfahrplan</td>\n      <td>Outbound</td>\n      <td>at:49:1806:0:2-at:49:935:0:1</td>\n      <td>0:00-6:00</td>\n      <td>360</td>\n      <td>1</td>\n      <td>at:49:1806:0:2</td>\n      <td>Neuwaldegger Straße</td>\n      <td>Neuwaldegg</td>\n      <td>15</td>\n      <td>4</td>\n      <td>LINESTRING (16.2879795787221440 48.23686298545...</td>\n    </tr>\n    <tr>\n      <th>30116</th>\n      <td>23-79B-U-j20-1</td>\n      <td>79B Donaumarina - Kaiserebersdorf, Zinnergasse...</td>\n      <td>Outbound</td>\n      <td>at:49:320:0:2-at:49:1301:0:3</td>\n      <td>0:00-6:00</td>\n      <td>360</td>\n      <td>1</td>\n      <td>at:49:320:0:2</td>\n      <td>Dammhaufengasse</td>\n      <td>Praterkai S</td>\n      <td>30</td>\n      <td>2</td>\n      <td>LINESTRING (16.4470951838153958 48.19572566703...</td>\n    </tr>\n  </tbody>\n</table>\n</div>"
     },
     "metadata": {},
     "execution_count": 26
    }
   ],
   "source": [
    "seg_freq.head()"
   ]
  },
  {
   "cell_type": "code",
   "execution_count": 30,
   "metadata": {},
   "outputs": [],
   "source": [
    "a = seg_freq.to_wkt(wkt=True)"
   ]
  },
  {
   "cell_type": "code",
   "execution_count": 34,
   "metadata": {},
   "outputs": [
    {
     "output_type": "error",
     "ename": "AttributeError",
     "evalue": "'Series' object has no attribute 'has_z'",
     "traceback": [
      "\u001b[1;31m---------------------------------------------------------------------------\u001b[0m",
      "\u001b[1;31mAttributeError\u001b[0m                            Traceback (most recent call last)",
      "\u001b[1;32m<ipython-input-34-cfdad1efef7f>\u001b[0m in \u001b[0;36m<module>\u001b[1;34m\u001b[0m\n\u001b[1;32m----> 1\u001b[1;33m \u001b[0mseg_freq\u001b[0m\u001b[1;33m.\u001b[0m\u001b[0mto_file\u001b[0m\u001b[1;33m(\u001b[0m\u001b[1;34m\"myfile.gpkg\"\u001b[0m\u001b[1;33m,\u001b[0m \u001b[0mlayer\u001b[0m\u001b[1;33m=\u001b[0m\u001b[1;34m'alayer'\u001b[0m\u001b[1;33m,\u001b[0m \u001b[0mdriver\u001b[0m\u001b[1;33m=\u001b[0m\u001b[1;34m'GPKG'\u001b[0m\u001b[1;33m)\u001b[0m\u001b[1;33m\u001b[0m\u001b[1;33m\u001b[0m\u001b[0m\n\u001b[0m",
      "\u001b[1;32mC:\\Python39\\lib\\site-packages\\geopandas\\geodataframe.py\u001b[0m in \u001b[0;36mto_file\u001b[1;34m(self, filename, driver, schema, index, **kwargs)\u001b[0m\n\u001b[0;32m   1084\u001b[0m         \u001b[1;32mfrom\u001b[0m \u001b[0mgeopandas\u001b[0m\u001b[1;33m.\u001b[0m\u001b[0mio\u001b[0m\u001b[1;33m.\u001b[0m\u001b[0mfile\u001b[0m \u001b[1;32mimport\u001b[0m \u001b[0m_to_file\u001b[0m\u001b[1;33m\u001b[0m\u001b[1;33m\u001b[0m\u001b[0m\n\u001b[0;32m   1085\u001b[0m \u001b[1;33m\u001b[0m\u001b[0m\n\u001b[1;32m-> 1086\u001b[1;33m         \u001b[0m_to_file\u001b[0m\u001b[1;33m(\u001b[0m\u001b[0mself\u001b[0m\u001b[1;33m,\u001b[0m \u001b[0mfilename\u001b[0m\u001b[1;33m,\u001b[0m \u001b[0mdriver\u001b[0m\u001b[1;33m,\u001b[0m \u001b[0mschema\u001b[0m\u001b[1;33m,\u001b[0m \u001b[0mindex\u001b[0m\u001b[1;33m,\u001b[0m \u001b[1;33m**\u001b[0m\u001b[0mkwargs\u001b[0m\u001b[1;33m)\u001b[0m\u001b[1;33m\u001b[0m\u001b[1;33m\u001b[0m\u001b[0m\n\u001b[0m\u001b[0;32m   1087\u001b[0m \u001b[1;33m\u001b[0m\u001b[0m\n\u001b[0;32m   1088\u001b[0m     \u001b[1;32mdef\u001b[0m \u001b[0mset_crs\u001b[0m\u001b[1;33m(\u001b[0m\u001b[0mself\u001b[0m\u001b[1;33m,\u001b[0m \u001b[0mcrs\u001b[0m\u001b[1;33m=\u001b[0m\u001b[1;32mNone\u001b[0m\u001b[1;33m,\u001b[0m \u001b[0mepsg\u001b[0m\u001b[1;33m=\u001b[0m\u001b[1;32mNone\u001b[0m\u001b[1;33m,\u001b[0m \u001b[0minplace\u001b[0m\u001b[1;33m=\u001b[0m\u001b[1;32mFalse\u001b[0m\u001b[1;33m,\u001b[0m \u001b[0mallow_override\u001b[0m\u001b[1;33m=\u001b[0m\u001b[1;32mFalse\u001b[0m\u001b[1;33m)\u001b[0m\u001b[1;33m:\u001b[0m\u001b[1;33m\u001b[0m\u001b[1;33m\u001b[0m\u001b[0m\n",
      "\u001b[1;32mC:\\Python39\\lib\\site-packages\\geopandas\\io\\file.py\u001b[0m in \u001b[0;36m_to_file\u001b[1;34m(df, filename, driver, schema, index, mode, crs, **kwargs)\u001b[0m\n\u001b[0;32m    302\u001b[0m         \u001b[0mdf\u001b[0m \u001b[1;33m=\u001b[0m \u001b[0mdf\u001b[0m\u001b[1;33m.\u001b[0m\u001b[0mreset_index\u001b[0m\u001b[1;33m(\u001b[0m\u001b[0mdrop\u001b[0m\u001b[1;33m=\u001b[0m\u001b[1;32mFalse\u001b[0m\u001b[1;33m)\u001b[0m\u001b[1;33m\u001b[0m\u001b[1;33m\u001b[0m\u001b[0m\n\u001b[0;32m    303\u001b[0m     \u001b[1;32mif\u001b[0m \u001b[0mschema\u001b[0m \u001b[1;32mis\u001b[0m \u001b[1;32mNone\u001b[0m\u001b[1;33m:\u001b[0m\u001b[1;33m\u001b[0m\u001b[1;33m\u001b[0m\u001b[0m\n\u001b[1;32m--> 304\u001b[1;33m         \u001b[0mschema\u001b[0m \u001b[1;33m=\u001b[0m \u001b[0minfer_schema\u001b[0m\u001b[1;33m(\u001b[0m\u001b[0mdf\u001b[0m\u001b[1;33m)\u001b[0m\u001b[1;33m\u001b[0m\u001b[1;33m\u001b[0m\u001b[0m\n\u001b[0m\u001b[0;32m    305\u001b[0m     \u001b[1;32mif\u001b[0m \u001b[0mcrs\u001b[0m\u001b[1;33m:\u001b[0m\u001b[1;33m\u001b[0m\u001b[1;33m\u001b[0m\u001b[0m\n\u001b[0;32m    306\u001b[0m         \u001b[0mcrs\u001b[0m \u001b[1;33m=\u001b[0m \u001b[0mpyproj\u001b[0m\u001b[1;33m.\u001b[0m\u001b[0mCRS\u001b[0m\u001b[1;33m.\u001b[0m\u001b[0mfrom_user_input\u001b[0m\u001b[1;33m(\u001b[0m\u001b[0mcrs\u001b[0m\u001b[1;33m)\u001b[0m\u001b[1;33m\u001b[0m\u001b[1;33m\u001b[0m\u001b[0m\n",
      "\u001b[1;32mC:\\Python39\\lib\\site-packages\\geopandas\\io\\file.py\u001b[0m in \u001b[0;36minfer_schema\u001b[1;34m(df)\u001b[0m\n\u001b[0;32m    364\u001b[0m     \u001b[1;31m# Since https://github.com/Toblerity/Fiona/issues/446 resolution,\u001b[0m\u001b[1;33m\u001b[0m\u001b[1;33m\u001b[0m\u001b[1;33m\u001b[0m\u001b[0m\n\u001b[0;32m    365\u001b[0m     \u001b[1;31m# Fiona allows a list of geometry types\u001b[0m\u001b[1;33m\u001b[0m\u001b[1;33m\u001b[0m\u001b[1;33m\u001b[0m\u001b[0m\n\u001b[1;32m--> 366\u001b[1;33m     \u001b[0mgeom_types\u001b[0m \u001b[1;33m=\u001b[0m \u001b[0m_geometry_types\u001b[0m\u001b[1;33m(\u001b[0m\u001b[0mdf\u001b[0m\u001b[1;33m)\u001b[0m\u001b[1;33m\u001b[0m\u001b[1;33m\u001b[0m\u001b[0m\n\u001b[0m\u001b[0;32m    367\u001b[0m \u001b[1;33m\u001b[0m\u001b[0m\n\u001b[0;32m    368\u001b[0m     \u001b[0mschema\u001b[0m \u001b[1;33m=\u001b[0m \u001b[1;33m{\u001b[0m\u001b[1;34m\"geometry\"\u001b[0m\u001b[1;33m:\u001b[0m \u001b[0mgeom_types\u001b[0m\u001b[1;33m,\u001b[0m \u001b[1;34m\"properties\"\u001b[0m\u001b[1;33m:\u001b[0m \u001b[0mproperties\u001b[0m\u001b[1;33m}\u001b[0m\u001b[1;33m\u001b[0m\u001b[1;33m\u001b[0m\u001b[0m\n",
      "\u001b[1;32mC:\\Python39\\lib\\site-packages\\geopandas\\io\\file.py\u001b[0m in \u001b[0;36m_geometry_types\u001b[1;34m(df)\u001b[0m\n\u001b[0;32m    375\u001b[0m     \u001b[0mDetermine\u001b[0m \u001b[0mthe\u001b[0m \u001b[0mgeometry\u001b[0m \u001b[0mtypes\u001b[0m \u001b[1;32min\u001b[0m \u001b[0mthe\u001b[0m \u001b[0mGeoDataFrame\u001b[0m \u001b[1;32mfor\u001b[0m \u001b[0mthe\u001b[0m \u001b[0mschema\u001b[0m\u001b[1;33m.\u001b[0m\u001b[1;33m\u001b[0m\u001b[1;33m\u001b[0m\u001b[0m\n\u001b[0;32m    376\u001b[0m     \"\"\"\n\u001b[1;32m--> 377\u001b[1;33m     \u001b[0mgeom_types_2D\u001b[0m \u001b[1;33m=\u001b[0m \u001b[0mdf\u001b[0m\u001b[1;33m[\u001b[0m\u001b[1;33m~\u001b[0m\u001b[0mdf\u001b[0m\u001b[1;33m.\u001b[0m\u001b[0mgeometry\u001b[0m\u001b[1;33m.\u001b[0m\u001b[0mhas_z\u001b[0m\u001b[1;33m]\u001b[0m\u001b[1;33m.\u001b[0m\u001b[0mgeometry\u001b[0m\u001b[1;33m.\u001b[0m\u001b[0mgeom_type\u001b[0m\u001b[1;33m.\u001b[0m\u001b[0munique\u001b[0m\u001b[1;33m(\u001b[0m\u001b[1;33m)\u001b[0m\u001b[1;33m\u001b[0m\u001b[1;33m\u001b[0m\u001b[0m\n\u001b[0m\u001b[0;32m    378\u001b[0m     \u001b[0mgeom_types_2D\u001b[0m \u001b[1;33m=\u001b[0m \u001b[1;33m[\u001b[0m\u001b[0mgtype\u001b[0m \u001b[1;32mfor\u001b[0m \u001b[0mgtype\u001b[0m \u001b[1;32min\u001b[0m \u001b[0mgeom_types_2D\u001b[0m \u001b[1;32mif\u001b[0m \u001b[0mgtype\u001b[0m \u001b[1;32mis\u001b[0m \u001b[1;32mnot\u001b[0m \u001b[1;32mNone\u001b[0m\u001b[1;33m]\u001b[0m\u001b[1;33m\u001b[0m\u001b[1;33m\u001b[0m\u001b[0m\n\u001b[0;32m    379\u001b[0m     \u001b[0mgeom_types_3D\u001b[0m \u001b[1;33m=\u001b[0m \u001b[0mdf\u001b[0m\u001b[1;33m[\u001b[0m\u001b[0mdf\u001b[0m\u001b[1;33m.\u001b[0m\u001b[0mgeometry\u001b[0m\u001b[1;33m.\u001b[0m\u001b[0mhas_z\u001b[0m\u001b[1;33m]\u001b[0m\u001b[1;33m.\u001b[0m\u001b[0mgeometry\u001b[0m\u001b[1;33m.\u001b[0m\u001b[0mgeom_type\u001b[0m\u001b[1;33m.\u001b[0m\u001b[0munique\u001b[0m\u001b[1;33m(\u001b[0m\u001b[1;33m)\u001b[0m\u001b[1;33m\u001b[0m\u001b[1;33m\u001b[0m\u001b[0m\n",
      "\u001b[1;32mC:\\Python39\\lib\\site-packages\\pandas\\core\\generic.py\u001b[0m in \u001b[0;36m__getattr__\u001b[1;34m(self, name)\u001b[0m\n\u001b[0;32m   5463\u001b[0m             \u001b[1;32mif\u001b[0m \u001b[0mself\u001b[0m\u001b[1;33m.\u001b[0m\u001b[0m_info_axis\u001b[0m\u001b[1;33m.\u001b[0m\u001b[0m_can_hold_identifiers_and_holds_name\u001b[0m\u001b[1;33m(\u001b[0m\u001b[0mname\u001b[0m\u001b[1;33m)\u001b[0m\u001b[1;33m:\u001b[0m\u001b[1;33m\u001b[0m\u001b[1;33m\u001b[0m\u001b[0m\n\u001b[0;32m   5464\u001b[0m                 \u001b[1;32mreturn\u001b[0m \u001b[0mself\u001b[0m\u001b[1;33m[\u001b[0m\u001b[0mname\u001b[0m\u001b[1;33m]\u001b[0m\u001b[1;33m\u001b[0m\u001b[1;33m\u001b[0m\u001b[0m\n\u001b[1;32m-> 5465\u001b[1;33m             \u001b[1;32mreturn\u001b[0m \u001b[0mobject\u001b[0m\u001b[1;33m.\u001b[0m\u001b[0m__getattribute__\u001b[0m\u001b[1;33m(\u001b[0m\u001b[0mself\u001b[0m\u001b[1;33m,\u001b[0m \u001b[0mname\u001b[0m\u001b[1;33m)\u001b[0m\u001b[1;33m\u001b[0m\u001b[1;33m\u001b[0m\u001b[0m\n\u001b[0m\u001b[0;32m   5466\u001b[0m \u001b[1;33m\u001b[0m\u001b[0m\n\u001b[0;32m   5467\u001b[0m     \u001b[1;32mdef\u001b[0m \u001b[0m__setattr__\u001b[0m\u001b[1;33m(\u001b[0m\u001b[0mself\u001b[0m\u001b[1;33m,\u001b[0m \u001b[0mname\u001b[0m\u001b[1;33m:\u001b[0m \u001b[0mstr\u001b[0m\u001b[1;33m,\u001b[0m \u001b[0mvalue\u001b[0m\u001b[1;33m)\u001b[0m \u001b[1;33m->\u001b[0m \u001b[1;32mNone\u001b[0m\u001b[1;33m:\u001b[0m\u001b[1;33m\u001b[0m\u001b[1;33m\u001b[0m\u001b[0m\n",
      "\u001b[1;31mAttributeError\u001b[0m: 'Series' object has no attribute 'has_z'"
     ]
    }
   ],
   "source": [
    "seg_freq.to_file(\"myfile.gpkg\", layer='alayer', driver='GPKG')"
   ]
  },
  {
   "cell_type": "code",
   "execution_count": null,
   "metadata": {},
   "outputs": [],
   "source": []
  }
 ]
}