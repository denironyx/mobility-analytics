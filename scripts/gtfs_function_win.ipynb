{
 "metadata": {
  "language_info": {
   "codemirror_mode": {
    "name": "ipython",
    "version": 3
   },
   "file_extension": ".py",
   "mimetype": "text/x-python",
   "name": "python",
   "nbconvert_exporter": "python",
   "pygments_lexer": "ipython3",
   "version": "3.9.5"
  },
  "orig_nbformat": 2,
  "kernelspec": {
   "name": "python395jvsc74a57bd063fd5069d213b44bf678585dea6b12cceca9941eaf7f819626cde1f2670de90d",
   "display_name": "Python 3.9.5 64-bit"
  }
 },
 "nbformat": 4,
 "nbformat_minor": 2,
 "cells": [
  {
   "cell_type": "code",
   "execution_count": 2,
   "metadata": {},
   "outputs": [],
   "source": [
    "import gtfs_functions as gtfs\n",
    "import geopandas\n",
    "\n",
    "# parse gtfs\n",
    "routes, stops, stop_times, trips, shapes = gtfs.import_gtfs('google_transit.zip')"
   ]
  },
  {
   "cell_type": "code",
   "execution_count": 3,
   "metadata": {},
   "outputs": [],
   "source": [
    "segments_gdf = gtfs.cut_gtfs(stop_times, stops, shapes)"
   ]
  },
  {
   "cell_type": "code",
   "execution_count": 4,
   "metadata": {},
   "outputs": [
    {
     "output_type": "execute_result",
     "data": {
      "text/plain": [
       "        route_id        route_name    dir_id segment_id     window  frequency  \\\n",
       "6237       16535     24 DIVISADERO  Outbound  4408-4409  0:00-6:00        360   \n",
       "27042  ALL_LINES         All lines        NA  7980-7981  0:00-6:00        360   \n",
       "27076  ALL_LINES         All lines        NA  7982-6084  0:00-6:00        360   \n",
       "16186      16600  LBUS TARAVAL BUS   Inbound  5639-5678  0:00-6:00        360   \n",
       "16192      16600  LBUS TARAVAL BUS  Outbound  5640-5685  0:00-6:00        360   \n",
       "\n",
       "       ntrips s_st_id                s_st_name                      e_st_name  \\\n",
       "6237        1    4408  Divisadero St & Bush St  Divisadero St & California St   \n",
       "27042       1    7980  Moscow St t & Italy Ave         Moscow St & France Ave   \n",
       "27076       1    7982   Moscow St & RussiaAvet         Prague St & Russia Ave   \n",
       "16186       1    5639       Market St & 2nd St          Market St & Kearny St   \n",
       "16192       1    5640       Market St & 3rd St  Market St & New Montgomery St   \n",
       "\n",
       "       max_freq  max_trips                                           geometry  \n",
       "6237         10          6  LINESTRING (-122.44009 37.78626, -122.44026 37...  \n",
       "27042        20         18  LINESTRING (-122.43238 37.71498, -122.43234 37...  \n",
       "27076        20         18  LINESTRING (-122.42992 37.71812, -122.42918 37...  \n",
       "16186        12          5  LINESTRING (-122.40130 37.78934, -122.40139 37...  \n",
       "16192        12          5  LINESTRING (-122.40355 37.78756, -122.40344 37...  "
      ],
      "text/html": "<div>\n<style scoped>\n    .dataframe tbody tr th:only-of-type {\n        vertical-align: middle;\n    }\n\n    .dataframe tbody tr th {\n        vertical-align: top;\n    }\n\n    .dataframe thead th {\n        text-align: right;\n    }\n</style>\n<table border=\"1\" class=\"dataframe\">\n  <thead>\n    <tr style=\"text-align: right;\">\n      <th></th>\n      <th>route_id</th>\n      <th>route_name</th>\n      <th>dir_id</th>\n      <th>segment_id</th>\n      <th>window</th>\n      <th>frequency</th>\n      <th>ntrips</th>\n      <th>s_st_id</th>\n      <th>s_st_name</th>\n      <th>e_st_name</th>\n      <th>max_freq</th>\n      <th>max_trips</th>\n      <th>geometry</th>\n    </tr>\n  </thead>\n  <tbody>\n    <tr>\n      <th>6237</th>\n      <td>16535</td>\n      <td>24 DIVISADERO</td>\n      <td>Outbound</td>\n      <td>4408-4409</td>\n      <td>0:00-6:00</td>\n      <td>360</td>\n      <td>1</td>\n      <td>4408</td>\n      <td>Divisadero St &amp; Bush St</td>\n      <td>Divisadero St &amp; California St</td>\n      <td>10</td>\n      <td>6</td>\n      <td>LINESTRING (-122.44009 37.78626, -122.44026 37...</td>\n    </tr>\n    <tr>\n      <th>27042</th>\n      <td>ALL_LINES</td>\n      <td>All lines</td>\n      <td>NA</td>\n      <td>7980-7981</td>\n      <td>0:00-6:00</td>\n      <td>360</td>\n      <td>1</td>\n      <td>7980</td>\n      <td>Moscow St t &amp; Italy Ave</td>\n      <td>Moscow St &amp; France Ave</td>\n      <td>20</td>\n      <td>18</td>\n      <td>LINESTRING (-122.43238 37.71498, -122.43234 37...</td>\n    </tr>\n    <tr>\n      <th>27076</th>\n      <td>ALL_LINES</td>\n      <td>All lines</td>\n      <td>NA</td>\n      <td>7982-6084</td>\n      <td>0:00-6:00</td>\n      <td>360</td>\n      <td>1</td>\n      <td>7982</td>\n      <td>Moscow St &amp; RussiaAvet</td>\n      <td>Prague St &amp; Russia Ave</td>\n      <td>20</td>\n      <td>18</td>\n      <td>LINESTRING (-122.42992 37.71812, -122.42918 37...</td>\n    </tr>\n    <tr>\n      <th>16186</th>\n      <td>16600</td>\n      <td>LBUS TARAVAL BUS</td>\n      <td>Inbound</td>\n      <td>5639-5678</td>\n      <td>0:00-6:00</td>\n      <td>360</td>\n      <td>1</td>\n      <td>5639</td>\n      <td>Market St &amp; 2nd St</td>\n      <td>Market St &amp; Kearny St</td>\n      <td>12</td>\n      <td>5</td>\n      <td>LINESTRING (-122.40130 37.78934, -122.40139 37...</td>\n    </tr>\n    <tr>\n      <th>16192</th>\n      <td>16600</td>\n      <td>LBUS TARAVAL BUS</td>\n      <td>Outbound</td>\n      <td>5640-5685</td>\n      <td>0:00-6:00</td>\n      <td>360</td>\n      <td>1</td>\n      <td>5640</td>\n      <td>Market St &amp; 3rd St</td>\n      <td>Market St &amp; New Montgomery St</td>\n      <td>12</td>\n      <td>5</td>\n      <td>LINESTRING (-122.40355 37.78756, -122.40344 37...</td>\n    </tr>\n  </tbody>\n</table>\n</div>"
     },
     "metadata": {},
     "execution_count": 4
    }
   ],
   "source": [
    "cutoffs = [0,6,9,15,19,22,24]\n",
    "seg_freq = gtfs.segments_freq(segments_gdf, stop_times, routes, cutoffs = cutoffs)\n",
    "seg_freq.head()"
   ]
  },
  {
   "cell_type": "code",
   "execution_count": 7,
   "metadata": {},
   "outputs": [
    {
     "output_type": "execute_result",
     "data": {
      "text/plain": [
       "      route_id           route_name    dir_id segment_id       window  \\\n",
       "12216    16559    45 UNION-STOCKTON   Inbound  3114-3144    0:00-6:00   \n",
       "8599     16541          30 STOCKTON   Inbound  3114-3144  22:00-24:00   \n",
       "8596     16541          30 STOCKTON   Inbound  3114-3144    0:00-6:00   \n",
       "12219    16559    45 UNION-STOCKTON   Inbound  3114-3144  22:00-24:00   \n",
       "15110    16581  91 3RD-19TH AVE OWL  Outbound  3114-3144  22:00-24:00   \n",
       "\n",
       "       frequency  ntrips s_st_id            s_st_name           e_st_name  \\\n",
       "12216        120       3    3114  3rd St & Brannan St  3rd St & Bryant St   \n",
       "8599         120       1    3114  3rd St & Brannan St  3rd St & Bryant St   \n",
       "8596          40       9    3114  3rd St & Brannan St  3rd St & Bryant St   \n",
       "12219         40       3    3114  3rd St & Brannan St  3rd St & Bryant St   \n",
       "15110         30       4    3114  3rd St & Brannan St  3rd St & Bryant St   \n",
       "\n",
       "       max_freq  max_trips                                           geometry  \n",
       "12216        12          5  LINESTRING (-122.3932295454231536 37.779229192...  \n",
       "8599          6         10  LINESTRING (-122.3932295454231536 37.779229192...  \n",
       "8596          6         10  LINESTRING (-122.3932295454231536 37.779229192...  \n",
       "12219        12          5  LINESTRING (-122.3932295454231536 37.779229192...  \n",
       "15110        30          2  LINESTRING (-122.3932295454231536 37.779229192...  "
      ],
      "text/html": "<div>\n<style scoped>\n    .dataframe tbody tr th:only-of-type {\n        vertical-align: middle;\n    }\n\n    .dataframe tbody tr th {\n        vertical-align: top;\n    }\n\n    .dataframe thead th {\n        text-align: right;\n    }\n</style>\n<table border=\"1\" class=\"dataframe\">\n  <thead>\n    <tr style=\"text-align: right;\">\n      <th></th>\n      <th>route_id</th>\n      <th>route_name</th>\n      <th>dir_id</th>\n      <th>segment_id</th>\n      <th>window</th>\n      <th>frequency</th>\n      <th>ntrips</th>\n      <th>s_st_id</th>\n      <th>s_st_name</th>\n      <th>e_st_name</th>\n      <th>max_freq</th>\n      <th>max_trips</th>\n      <th>geometry</th>\n    </tr>\n  </thead>\n  <tbody>\n    <tr>\n      <th>12216</th>\n      <td>16559</td>\n      <td>45 UNION-STOCKTON</td>\n      <td>Inbound</td>\n      <td>3114-3144</td>\n      <td>0:00-6:00</td>\n      <td>120</td>\n      <td>3</td>\n      <td>3114</td>\n      <td>3rd St &amp; Brannan St</td>\n      <td>3rd St &amp; Bryant St</td>\n      <td>12</td>\n      <td>5</td>\n      <td>LINESTRING (-122.3932295454231536 37.779229192...</td>\n    </tr>\n    <tr>\n      <th>8599</th>\n      <td>16541</td>\n      <td>30 STOCKTON</td>\n      <td>Inbound</td>\n      <td>3114-3144</td>\n      <td>22:00-24:00</td>\n      <td>120</td>\n      <td>1</td>\n      <td>3114</td>\n      <td>3rd St &amp; Brannan St</td>\n      <td>3rd St &amp; Bryant St</td>\n      <td>6</td>\n      <td>10</td>\n      <td>LINESTRING (-122.3932295454231536 37.779229192...</td>\n    </tr>\n    <tr>\n      <th>8596</th>\n      <td>16541</td>\n      <td>30 STOCKTON</td>\n      <td>Inbound</td>\n      <td>3114-3144</td>\n      <td>0:00-6:00</td>\n      <td>40</td>\n      <td>9</td>\n      <td>3114</td>\n      <td>3rd St &amp; Brannan St</td>\n      <td>3rd St &amp; Bryant St</td>\n      <td>6</td>\n      <td>10</td>\n      <td>LINESTRING (-122.3932295454231536 37.779229192...</td>\n    </tr>\n    <tr>\n      <th>12219</th>\n      <td>16559</td>\n      <td>45 UNION-STOCKTON</td>\n      <td>Inbound</td>\n      <td>3114-3144</td>\n      <td>22:00-24:00</td>\n      <td>40</td>\n      <td>3</td>\n      <td>3114</td>\n      <td>3rd St &amp; Brannan St</td>\n      <td>3rd St &amp; Bryant St</td>\n      <td>12</td>\n      <td>5</td>\n      <td>LINESTRING (-122.3932295454231536 37.779229192...</td>\n    </tr>\n    <tr>\n      <th>15110</th>\n      <td>16581</td>\n      <td>91 3RD-19TH AVE OWL</td>\n      <td>Outbound</td>\n      <td>3114-3144</td>\n      <td>22:00-24:00</td>\n      <td>30</td>\n      <td>4</td>\n      <td>3114</td>\n      <td>3rd St &amp; Brannan St</td>\n      <td>3rd St &amp; Bryant St</td>\n      <td>30</td>\n      <td>2</td>\n      <td>LINESTRING (-122.3932295454231536 37.779229192...</td>\n    </tr>\n  </tbody>\n</table>\n</div>"
     },
     "metadata": {},
     "execution_count": 7
    }
   ],
   "source": [
    "seg_freq.loc[(seg_freq.segment_id=='3114-3144')].head()"
   ]
  },
  {
   "cell_type": "code",
   "execution_count": 5,
   "metadata": {},
   "outputs": [
    {
     "output_type": "execute_result",
     "data": {
      "text/plain": [
       "        route_id           route_name    dir_id segment_id     window  \\\n",
       "12216      16559    45 UNION-STOCKTON   Inbound  3114-3144  0:00-6:00   \n",
       "8596       16541          30 STOCKTON   Inbound  3114-3144  0:00-6:00   \n",
       "15109      16581  91 3RD-19TH AVE OWL  Outbound  3114-3144  0:00-6:00   \n",
       "18894  ALL_LINES            All lines        NA  3114-3144  0:00-6:00   \n",
       "\n",
       "       frequency  ntrips s_st_id            s_st_name           e_st_name  \\\n",
       "12216        120       3    3114  3rd St & Brannan St  3rd St & Bryant St   \n",
       "8596          40       9    3114  3rd St & Brannan St  3rd St & Bryant St   \n",
       "15109         30      12    3114  3rd St & Brannan St  3rd St & Bryant St   \n",
       "18894         15      24    3114  3rd St & Brannan St  3rd St & Bryant St   \n",
       "\n",
       "       max_freq  max_trips                                           geometry  \n",
       "12216        12          5  LINESTRING (-122.39323 37.77923, -122.39431 37...  \n",
       "8596          6         10  LINESTRING (-122.39323 37.77923, -122.39431 37...  \n",
       "15109        30          2  LINESTRING (-122.39323 37.77923, -122.39431 37...  \n",
       "18894         4         90  LINESTRING (-122.39323 37.77923, -122.39431 37...  "
      ],
      "text/html": "<div>\n<style scoped>\n    .dataframe tbody tr th:only-of-type {\n        vertical-align: middle;\n    }\n\n    .dataframe tbody tr th {\n        vertical-align: top;\n    }\n\n    .dataframe thead th {\n        text-align: right;\n    }\n</style>\n<table border=\"1\" class=\"dataframe\">\n  <thead>\n    <tr style=\"text-align: right;\">\n      <th></th>\n      <th>route_id</th>\n      <th>route_name</th>\n      <th>dir_id</th>\n      <th>segment_id</th>\n      <th>window</th>\n      <th>frequency</th>\n      <th>ntrips</th>\n      <th>s_st_id</th>\n      <th>s_st_name</th>\n      <th>e_st_name</th>\n      <th>max_freq</th>\n      <th>max_trips</th>\n      <th>geometry</th>\n    </tr>\n  </thead>\n  <tbody>\n    <tr>\n      <th>12216</th>\n      <td>16559</td>\n      <td>45 UNION-STOCKTON</td>\n      <td>Inbound</td>\n      <td>3114-3144</td>\n      <td>0:00-6:00</td>\n      <td>120</td>\n      <td>3</td>\n      <td>3114</td>\n      <td>3rd St &amp; Brannan St</td>\n      <td>3rd St &amp; Bryant St</td>\n      <td>12</td>\n      <td>5</td>\n      <td>LINESTRING (-122.39323 37.77923, -122.39431 37...</td>\n    </tr>\n    <tr>\n      <th>8596</th>\n      <td>16541</td>\n      <td>30 STOCKTON</td>\n      <td>Inbound</td>\n      <td>3114-3144</td>\n      <td>0:00-6:00</td>\n      <td>40</td>\n      <td>9</td>\n      <td>3114</td>\n      <td>3rd St &amp; Brannan St</td>\n      <td>3rd St &amp; Bryant St</td>\n      <td>6</td>\n      <td>10</td>\n      <td>LINESTRING (-122.39323 37.77923, -122.39431 37...</td>\n    </tr>\n    <tr>\n      <th>15109</th>\n      <td>16581</td>\n      <td>91 3RD-19TH AVE OWL</td>\n      <td>Outbound</td>\n      <td>3114-3144</td>\n      <td>0:00-6:00</td>\n      <td>30</td>\n      <td>12</td>\n      <td>3114</td>\n      <td>3rd St &amp; Brannan St</td>\n      <td>3rd St &amp; Bryant St</td>\n      <td>30</td>\n      <td>2</td>\n      <td>LINESTRING (-122.39323 37.77923, -122.39431 37...</td>\n    </tr>\n    <tr>\n      <th>18894</th>\n      <td>ALL_LINES</td>\n      <td>All lines</td>\n      <td>NA</td>\n      <td>3114-3144</td>\n      <td>0:00-6:00</td>\n      <td>15</td>\n      <td>24</td>\n      <td>3114</td>\n      <td>3rd St &amp; Brannan St</td>\n      <td>3rd St &amp; Bryant St</td>\n      <td>4</td>\n      <td>90</td>\n      <td>LINESTRING (-122.39323 37.77923, -122.39431 37...</td>\n    </tr>\n  </tbody>\n</table>\n</div>"
     },
     "metadata": {},
     "execution_count": 5
    }
   ],
   "source": [
    "seg_freq.loc[(seg_freq.segment_id=='3114-3144')&(seg_freq.window=='0:00-6:00')]"
   ]
  },
  {
   "cell_type": "code",
   "execution_count": 6,
   "metadata": {},
   "outputs": [
    {
     "output_type": "stream",
     "name": "stdout",
     "text": [
      "User Guide: https://docs.kepler.gl/docs/keplergl-jupyter\n"
     ]
    },
    {
     "output_type": "display_data",
     "data": {
      "text/plain": "KeplerGl(data={'data':         route_id        route_name    dir_id segment_id       window  \\\n6237       1653…",
      "application/vnd.jupyter.widget-view+json": {
       "version_major": 2,
       "version_minor": 0,
       "model_id": "eaef0746a4664aa48332f42f0d52ea1a"
      }
     },
     "metadata": {}
    }
   ],
   "source": [
    "import keplergl as kp\n",
    "m = kp.KeplerGl(data=dict(data=seg_freq, name='Segment Frequency'), height=800)\n",
    "m"
   ]
  },
  {
   "cell_type": "code",
   "execution_count": null,
   "metadata": {},
   "outputs": [],
   "source": []
  }
 ]
}