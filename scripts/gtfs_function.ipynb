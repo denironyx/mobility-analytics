{
 "metadata": {
  "language_info": {
   "codemirror_mode": {
    "name": "ipython",
    "version": 3
   },
   "file_extension": ".py",
   "mimetype": "text/x-python",
   "name": "python",
   "nbconvert_exporter": "python",
   "pygments_lexer": "ipython3",
   "version": "3.8.5"
  },
  "orig_nbformat": 2,
  "kernelspec": {
   "name": "python38264bit8e63e683714041eb9c132a14b3c61944",
   "display_name": "Python 3.8.5 64-bit"
  },
  "metadata": {
   "interpreter": {
    "hash": "916dbcbb3f70747c44a77c7bcd40155683ae19c65e1c03b4aa3499c5328201f1"
   }
  }
 },
 "nbformat": 4,
 "nbformat_minor": 2,
 "cells": [
  {
   "source": [
    "## Package installation GTFS parsing"
   ],
   "cell_type": "markdown",
   "metadata": {}
  },
  {
   "cell_type": "code",
   "execution_count": 2,
   "metadata": {},
   "outputs": [
    {
     "output_type": "stream",
     "name": "stderr",
     "text": [
      "/home/dee/.local/lib/python3.8/site-packages/geopandas/_compat.py:84: UserWarning: The Shapely GEOS version (3.8.0-CAPI-1.13.1 ) is incompatible with the GEOS version PyGEOS was compiled with (3.8.1-CAPI-1.13.3). Conversions between both will be slow.\n  warnings.warn(\n"
     ]
    }
   ],
   "source": [
    "import gtfs_functions as gtfs\n",
    "import geopandas\n",
    "\n",
    "# parse gtfs\n",
    "routes, stops, stop_times, trips, shapes = gtfs.import_gtfs('google_transit.zip')"
   ]
  },
  {
   "source": [
    "## Cut the shapes into segments"
   ],
   "cell_type": "markdown",
   "metadata": {}
  },
  {
   "cell_type": "code",
   "execution_count": 3,
   "metadata": {},
   "outputs": [],
   "source": [
    "segments_gdf = gtfs.cut_gtfs(stop_times, stops, shapes)"
   ]
  },
  {
   "cell_type": "code",
   "execution_count": 4,
   "metadata": {},
   "outputs": [
    {
     "output_type": "execute_result",
     "data": {
      "text/plain": [
       "  route_id  direction_id  stop_sequence                start_stop_name  \\\n",
       "0    16509             0              1             Clay St & Drumm St   \n",
       "1    16509             0              2       Sacramento St & Davis St   \n",
       "2    16509             0              3     Sacramento St & Battery St   \n",
       "3    16509             0              4     Sacramento St & Sansome St   \n",
       "4    16509             0              5  Sacramento St & Montgomery St   \n",
       "\n",
       "                   end_stop_name start_stop_id end_stop_id segment_id  \\\n",
       "0       Sacramento St & Davis St          4015        6294  4015-6294   \n",
       "1     Sacramento St & Battery St          6294        6290  6294-6290   \n",
       "2     Sacramento St & Sansome St          6290        6314  6290-6314   \n",
       "3  Sacramento St & Montgomery St          6314        6307  6314-6307   \n",
       "4      Sacramento St & Kearny St          6307        6302  6307-6302   \n",
       "\n",
       "  shape_id                                           geometry  distance_m  \n",
       "0   185859  LINESTRING (-122.39697 37.79544, -122.39678 37...  205.281653  \n",
       "1   185859  LINESTRING (-122.39761 37.79446, -122.39781 37...  238.047505  \n",
       "2   185859  LINESTRING (-122.40028 37.79412, -122.40133 37...  113.017878  \n",
       "3   185859  LINESTRING (-122.40154 37.79396, -122.40217 37...  135.214760  \n",
       "4   185859  LINESTRING (-122.40306 37.79377, -122.40403 37...  159.021734  "
      ],
      "text/html": "<div>\n<style scoped>\n    .dataframe tbody tr th:only-of-type {\n        vertical-align: middle;\n    }\n\n    .dataframe tbody tr th {\n        vertical-align: top;\n    }\n\n    .dataframe thead th {\n        text-align: right;\n    }\n</style>\n<table border=\"1\" class=\"dataframe\">\n  <thead>\n    <tr style=\"text-align: right;\">\n      <th></th>\n      <th>route_id</th>\n      <th>direction_id</th>\n      <th>stop_sequence</th>\n      <th>start_stop_name</th>\n      <th>end_stop_name</th>\n      <th>start_stop_id</th>\n      <th>end_stop_id</th>\n      <th>segment_id</th>\n      <th>shape_id</th>\n      <th>geometry</th>\n      <th>distance_m</th>\n    </tr>\n  </thead>\n  <tbody>\n    <tr>\n      <th>0</th>\n      <td>16509</td>\n      <td>0</td>\n      <td>1</td>\n      <td>Clay St &amp; Drumm St</td>\n      <td>Sacramento St &amp; Davis St</td>\n      <td>4015</td>\n      <td>6294</td>\n      <td>4015-6294</td>\n      <td>185859</td>\n      <td>LINESTRING (-122.39697 37.79544, -122.39678 37...</td>\n      <td>205.281653</td>\n    </tr>\n    <tr>\n      <th>1</th>\n      <td>16509</td>\n      <td>0</td>\n      <td>2</td>\n      <td>Sacramento St &amp; Davis St</td>\n      <td>Sacramento St &amp; Battery St</td>\n      <td>6294</td>\n      <td>6290</td>\n      <td>6294-6290</td>\n      <td>185859</td>\n      <td>LINESTRING (-122.39761 37.79446, -122.39781 37...</td>\n      <td>238.047505</td>\n    </tr>\n    <tr>\n      <th>2</th>\n      <td>16509</td>\n      <td>0</td>\n      <td>3</td>\n      <td>Sacramento St &amp; Battery St</td>\n      <td>Sacramento St &amp; Sansome St</td>\n      <td>6290</td>\n      <td>6314</td>\n      <td>6290-6314</td>\n      <td>185859</td>\n      <td>LINESTRING (-122.40028 37.79412, -122.40133 37...</td>\n      <td>113.017878</td>\n    </tr>\n    <tr>\n      <th>3</th>\n      <td>16509</td>\n      <td>0</td>\n      <td>4</td>\n      <td>Sacramento St &amp; Sansome St</td>\n      <td>Sacramento St &amp; Montgomery St</td>\n      <td>6314</td>\n      <td>6307</td>\n      <td>6314-6307</td>\n      <td>185859</td>\n      <td>LINESTRING (-122.40154 37.79396, -122.40217 37...</td>\n      <td>135.214760</td>\n    </tr>\n    <tr>\n      <th>4</th>\n      <td>16509</td>\n      <td>0</td>\n      <td>5</td>\n      <td>Sacramento St &amp; Montgomery St</td>\n      <td>Sacramento St &amp; Kearny St</td>\n      <td>6307</td>\n      <td>6302</td>\n      <td>6307-6302</td>\n      <td>185859</td>\n      <td>LINESTRING (-122.40306 37.79377, -122.40403 37...</td>\n      <td>159.021734</td>\n    </tr>\n  </tbody>\n</table>\n</div>"
     },
     "metadata": {},
     "execution_count": 4
    }
   ],
   "source": [
    "## Output shows\n",
    "segments_gdf.head()"
   ]
  },
  {
   "cell_type": "code",
   "execution_count": 5,
   "metadata": {},
   "outputs": [
    {
     "output_type": "execute_result",
     "data": {
      "text/plain": [
       "  route_id agency_id route_short_name route_long_name route_desc  route_type  \\\n",
       "0    16509     SFMTA                1      CALIFORNIA                      3   \n",
       "1    16514     SFMTA                5          FULTON                      3   \n",
       "2    16517     SFMTA                7  HAIGHT-NORIEGA                      3   \n",
       "3    16519     SFMTA                8        BAYSHORE                      3   \n",
       "4    16522     SFMTA                9       SAN BRUNO                      3   \n",
       "\n",
       "             route_url route_color route_text_color  \n",
       "0  https://SFMTA.com/1                               \n",
       "1  https://SFMTA.com/5                               \n",
       "2  https://SFMTA.com/7                               \n",
       "3  https://SFMTA.com/8                               \n",
       "4  https://SFMTA.com/9                               "
      ],
      "text/html": "<div>\n<style scoped>\n    .dataframe tbody tr th:only-of-type {\n        vertical-align: middle;\n    }\n\n    .dataframe tbody tr th {\n        vertical-align: top;\n    }\n\n    .dataframe thead th {\n        text-align: right;\n    }\n</style>\n<table border=\"1\" class=\"dataframe\">\n  <thead>\n    <tr style=\"text-align: right;\">\n      <th></th>\n      <th>route_id</th>\n      <th>agency_id</th>\n      <th>route_short_name</th>\n      <th>route_long_name</th>\n      <th>route_desc</th>\n      <th>route_type</th>\n      <th>route_url</th>\n      <th>route_color</th>\n      <th>route_text_color</th>\n    </tr>\n  </thead>\n  <tbody>\n    <tr>\n      <th>0</th>\n      <td>16509</td>\n      <td>SFMTA</td>\n      <td>1</td>\n      <td>CALIFORNIA</td>\n      <td></td>\n      <td>3</td>\n      <td>https://SFMTA.com/1</td>\n      <td></td>\n      <td></td>\n    </tr>\n    <tr>\n      <th>1</th>\n      <td>16514</td>\n      <td>SFMTA</td>\n      <td>5</td>\n      <td>FULTON</td>\n      <td></td>\n      <td>3</td>\n      <td>https://SFMTA.com/5</td>\n      <td></td>\n      <td></td>\n    </tr>\n    <tr>\n      <th>2</th>\n      <td>16517</td>\n      <td>SFMTA</td>\n      <td>7</td>\n      <td>HAIGHT-NORIEGA</td>\n      <td></td>\n      <td>3</td>\n      <td>https://SFMTA.com/7</td>\n      <td></td>\n      <td></td>\n    </tr>\n    <tr>\n      <th>3</th>\n      <td>16519</td>\n      <td>SFMTA</td>\n      <td>8</td>\n      <td>BAYSHORE</td>\n      <td></td>\n      <td>3</td>\n      <td>https://SFMTA.com/8</td>\n      <td></td>\n      <td></td>\n    </tr>\n    <tr>\n      <th>4</th>\n      <td>16522</td>\n      <td>SFMTA</td>\n      <td>9</td>\n      <td>SAN BRUNO</td>\n      <td></td>\n      <td>3</td>\n      <td>https://SFMTA.com/9</td>\n      <td></td>\n      <td></td>\n    </tr>\n  </tbody>\n</table>\n</div>"
     },
     "metadata": {},
     "execution_count": 5
    }
   ],
   "source": [
    "routes.head()"
   ]
  },
  {
   "cell_type": "code",
   "execution_count": 6,
   "metadata": {},
   "outputs": [
    {
     "output_type": "execute_result",
     "data": {
      "text/plain": [
       "   trip_id  arrival_time  departure_time stop_id  stop_sequence stop_headsign  \\\n",
       "0  9854098       78900.0         78900.0    4015              1                 \n",
       "1  9854098       78962.0         78962.0    6294              2                 \n",
       "2  9854098       79041.0         79041.0    6290              3                 \n",
       "3  9854098       79080.0         79080.0    6314              4                 \n",
       "4  9854098       79127.0         79127.0    6307              5                 \n",
       "\n",
       "   pickup_type drop_off_type  shape_dist_traveled route_id service_id  \\\n",
       "0          NaN                                NaN    16509          1   \n",
       "1          NaN                                NaN    16509          1   \n",
       "2          NaN                                NaN    16509          1   \n",
       "3          NaN                                NaN    16509          1   \n",
       "4          NaN                                NaN    16509          1   \n",
       "\n",
       "   direction_id shape_id stop_code                      stop_name stop_desc  \\\n",
       "0             0   185859     14015             Clay St & Drumm St             \n",
       "1             0   185859     16294       Sacramento St & Davis St             \n",
       "2             0   185859     16290     Sacramento St & Battery St             \n",
       "3             0   185859     16314     Sacramento St & Sansome St             \n",
       "4             0   185859     16307  Sacramento St & Montgomery St             \n",
       "\n",
       "  zone_id stop_url                     geometry  \n",
       "0                   POINT (-122.39682 37.79544)  \n",
       "1                   POINT (-122.39761 37.79450)  \n",
       "2                   POINT (-122.40028 37.79418)  \n",
       "3                   POINT (-122.40155 37.79403)  \n",
       "4                   POINT (-122.40307 37.79384)  "
      ],
      "text/html": "<div>\n<style scoped>\n    .dataframe tbody tr th:only-of-type {\n        vertical-align: middle;\n    }\n\n    .dataframe tbody tr th {\n        vertical-align: top;\n    }\n\n    .dataframe thead th {\n        text-align: right;\n    }\n</style>\n<table border=\"1\" class=\"dataframe\">\n  <thead>\n    <tr style=\"text-align: right;\">\n      <th></th>\n      <th>trip_id</th>\n      <th>arrival_time</th>\n      <th>departure_time</th>\n      <th>stop_id</th>\n      <th>stop_sequence</th>\n      <th>stop_headsign</th>\n      <th>pickup_type</th>\n      <th>drop_off_type</th>\n      <th>shape_dist_traveled</th>\n      <th>route_id</th>\n      <th>service_id</th>\n      <th>direction_id</th>\n      <th>shape_id</th>\n      <th>stop_code</th>\n      <th>stop_name</th>\n      <th>stop_desc</th>\n      <th>zone_id</th>\n      <th>stop_url</th>\n      <th>geometry</th>\n    </tr>\n  </thead>\n  <tbody>\n    <tr>\n      <th>0</th>\n      <td>9854098</td>\n      <td>78900.0</td>\n      <td>78900.0</td>\n      <td>4015</td>\n      <td>1</td>\n      <td></td>\n      <td>NaN</td>\n      <td></td>\n      <td>NaN</td>\n      <td>16509</td>\n      <td>1</td>\n      <td>0</td>\n      <td>185859</td>\n      <td>14015</td>\n      <td>Clay St &amp; Drumm St</td>\n      <td></td>\n      <td></td>\n      <td></td>\n      <td>POINT (-122.39682 37.79544)</td>\n    </tr>\n    <tr>\n      <th>1</th>\n      <td>9854098</td>\n      <td>78962.0</td>\n      <td>78962.0</td>\n      <td>6294</td>\n      <td>2</td>\n      <td></td>\n      <td>NaN</td>\n      <td></td>\n      <td>NaN</td>\n      <td>16509</td>\n      <td>1</td>\n      <td>0</td>\n      <td>185859</td>\n      <td>16294</td>\n      <td>Sacramento St &amp; Davis St</td>\n      <td></td>\n      <td></td>\n      <td></td>\n      <td>POINT (-122.39761 37.79450)</td>\n    </tr>\n    <tr>\n      <th>2</th>\n      <td>9854098</td>\n      <td>79041.0</td>\n      <td>79041.0</td>\n      <td>6290</td>\n      <td>3</td>\n      <td></td>\n      <td>NaN</td>\n      <td></td>\n      <td>NaN</td>\n      <td>16509</td>\n      <td>1</td>\n      <td>0</td>\n      <td>185859</td>\n      <td>16290</td>\n      <td>Sacramento St &amp; Battery St</td>\n      <td></td>\n      <td></td>\n      <td></td>\n      <td>POINT (-122.40028 37.79418)</td>\n    </tr>\n    <tr>\n      <th>3</th>\n      <td>9854098</td>\n      <td>79080.0</td>\n      <td>79080.0</td>\n      <td>6314</td>\n      <td>4</td>\n      <td></td>\n      <td>NaN</td>\n      <td></td>\n      <td>NaN</td>\n      <td>16509</td>\n      <td>1</td>\n      <td>0</td>\n      <td>185859</td>\n      <td>16314</td>\n      <td>Sacramento St &amp; Sansome St</td>\n      <td></td>\n      <td></td>\n      <td></td>\n      <td>POINT (-122.40155 37.79403)</td>\n    </tr>\n    <tr>\n      <th>4</th>\n      <td>9854098</td>\n      <td>79127.0</td>\n      <td>79127.0</td>\n      <td>6307</td>\n      <td>5</td>\n      <td></td>\n      <td>NaN</td>\n      <td></td>\n      <td>NaN</td>\n      <td>16509</td>\n      <td>1</td>\n      <td>0</td>\n      <td>185859</td>\n      <td>16307</td>\n      <td>Sacramento St &amp; Montgomery St</td>\n      <td></td>\n      <td></td>\n      <td></td>\n      <td>POINT (-122.40307 37.79384)</td>\n    </tr>\n  </tbody>\n</table>\n</div>"
     },
     "metadata": {},
     "execution_count": 6
    }
   ],
   "source": [
    "stop_times.head()"
   ]
  },
  {
   "cell_type": "code",
   "execution_count": 7,
   "metadata": {},
   "outputs": [
    {
     "output_type": "execute_result",
     "data": {
      "text/plain": [
       "  stop_id stop_code                  stop_name stop_desc zone_id stop_url  \\\n",
       "0     390     10390  19th Avenue & Holloway St                              \n",
       "1    3016     13016            3rd St & 4th St                              \n",
       "2    3018     13018   Bacon St & San Bruno Ave                              \n",
       "3    3019     13019   Bacon St & San Bruno Ave                              \n",
       "4    3020     13020     Bacon St & Somerset St                              \n",
       "\n",
       "                      geometry  \n",
       "0  POINT (-122.47510 37.72119)  \n",
       "1  POINT (-122.38979 37.77262)  \n",
       "2  POINT (-122.40324 37.72774)  \n",
       "3  POINT (-122.40327 37.72765)  \n",
       "4  POINT (-122.40746 37.72667)  "
      ],
      "text/html": "<div>\n<style scoped>\n    .dataframe tbody tr th:only-of-type {\n        vertical-align: middle;\n    }\n\n    .dataframe tbody tr th {\n        vertical-align: top;\n    }\n\n    .dataframe thead th {\n        text-align: right;\n    }\n</style>\n<table border=\"1\" class=\"dataframe\">\n  <thead>\n    <tr style=\"text-align: right;\">\n      <th></th>\n      <th>stop_id</th>\n      <th>stop_code</th>\n      <th>stop_name</th>\n      <th>stop_desc</th>\n      <th>zone_id</th>\n      <th>stop_url</th>\n      <th>geometry</th>\n    </tr>\n  </thead>\n  <tbody>\n    <tr>\n      <th>0</th>\n      <td>390</td>\n      <td>10390</td>\n      <td>19th Avenue &amp; Holloway St</td>\n      <td></td>\n      <td></td>\n      <td></td>\n      <td>POINT (-122.47510 37.72119)</td>\n    </tr>\n    <tr>\n      <th>1</th>\n      <td>3016</td>\n      <td>13016</td>\n      <td>3rd St &amp; 4th St</td>\n      <td></td>\n      <td></td>\n      <td></td>\n      <td>POINT (-122.38979 37.77262)</td>\n    </tr>\n    <tr>\n      <th>2</th>\n      <td>3018</td>\n      <td>13018</td>\n      <td>Bacon St &amp; San Bruno Ave</td>\n      <td></td>\n      <td></td>\n      <td></td>\n      <td>POINT (-122.40324 37.72774)</td>\n    </tr>\n    <tr>\n      <th>3</th>\n      <td>3019</td>\n      <td>13019</td>\n      <td>Bacon St &amp; San Bruno Ave</td>\n      <td></td>\n      <td></td>\n      <td></td>\n      <td>POINT (-122.40327 37.72765)</td>\n    </tr>\n    <tr>\n      <th>4</th>\n      <td>3020</td>\n      <td>13020</td>\n      <td>Bacon St &amp; Somerset St</td>\n      <td></td>\n      <td></td>\n      <td></td>\n      <td>POINT (-122.40746 37.72667)</td>\n    </tr>\n  </tbody>\n</table>\n</div>"
     },
     "metadata": {},
     "execution_count": 7
    }
   ],
   "source": [
    "stops.head()"
   ]
  },
  {
   "cell_type": "code",
   "execution_count": 8,
   "metadata": {},
   "outputs": [
    {
     "output_type": "execute_result",
     "data": {
      "text/plain": [
       "  shape_id                                           geometry\n",
       "0   185859  LINESTRING (-122.39697 37.79544, -122.39678 37...\n",
       "1   185860  LINESTRING (-122.44680 37.78727, -122.44848 37...\n",
       "2   185861  LINESTRING (-122.39697 37.79544, -122.39678 37...\n",
       "3   185862  LINESTRING (-122.44680 37.78727, -122.44541 37...\n",
       "4   185863  LINESTRING (-122.49315 37.77971, -122.49331 37..."
      ],
      "text/html": "<div>\n<style scoped>\n    .dataframe tbody tr th:only-of-type {\n        vertical-align: middle;\n    }\n\n    .dataframe tbody tr th {\n        vertical-align: top;\n    }\n\n    .dataframe thead th {\n        text-align: right;\n    }\n</style>\n<table border=\"1\" class=\"dataframe\">\n  <thead>\n    <tr style=\"text-align: right;\">\n      <th></th>\n      <th>shape_id</th>\n      <th>geometry</th>\n    </tr>\n  </thead>\n  <tbody>\n    <tr>\n      <th>0</th>\n      <td>185859</td>\n      <td>LINESTRING (-122.39697 37.79544, -122.39678 37...</td>\n    </tr>\n    <tr>\n      <th>1</th>\n      <td>185860</td>\n      <td>LINESTRING (-122.44680 37.78727, -122.44848 37...</td>\n    </tr>\n    <tr>\n      <th>2</th>\n      <td>185861</td>\n      <td>LINESTRING (-122.39697 37.79544, -122.39678 37...</td>\n    </tr>\n    <tr>\n      <th>3</th>\n      <td>185862</td>\n      <td>LINESTRING (-122.44680 37.78727, -122.44541 37...</td>\n    </tr>\n    <tr>\n      <th>4</th>\n      <td>185863</td>\n      <td>LINESTRING (-122.49315 37.77971, -122.49331 37...</td>\n    </tr>\n  </tbody>\n</table>\n</div>"
     },
     "metadata": {},
     "execution_count": 8
    }
   ],
   "source": [
    "shapes.head()"
   ]
  },
  {
   "source": [
    "Calculate segment frequencies"
   ],
   "cell_type": "markdown",
   "metadata": {}
  },
  {
   "cell_type": "code",
   "execution_count": 10,
   "metadata": {},
   "outputs": [
    {
     "output_type": "execute_result",
     "data": {
      "text/plain": [
       "        route_id        route_name    dir_id segment_id     window  frequency  \\\n",
       "6237       16535     24 DIVISADERO  Outbound  4408-4409  0:00-6:00        360   \n",
       "27042  ALL_LINES         All lines        NA  7980-7981  0:00-6:00        360   \n",
       "27076  ALL_LINES         All lines        NA  7982-6084  0:00-6:00        360   \n",
       "16186      16600  LBUS TARAVAL BUS   Inbound  5639-5678  0:00-6:00        360   \n",
       "16192      16600  LBUS TARAVAL BUS  Outbound  5640-5685  0:00-6:00        360   \n",
       "\n",
       "       ntrips s_st_id                s_st_name                      e_st_name  \\\n",
       "6237        1    4408  Divisadero St & Bush St  Divisadero St & California St   \n",
       "27042       1    7980  Moscow St t & Italy Ave         Moscow St & France Ave   \n",
       "27076       1    7982   Moscow St & RussiaAvet         Prague St & Russia Ave   \n",
       "16186       1    5639       Market St & 2nd St          Market St & Kearny St   \n",
       "16192       1    5640       Market St & 3rd St  Market St & New Montgomery St   \n",
       "\n",
       "       max_freq  max_trips                                           geometry  \n",
       "6237         10          6  LINESTRING (-122.44009 37.78626, -122.44026 37...  \n",
       "27042        20         18  LINESTRING (-122.43238 37.71498, -122.43234 37...  \n",
       "27076        20         18  LINESTRING (-122.42992 37.71812, -122.42918 37...  \n",
       "16186        12          5  LINESTRING (-122.40130 37.78934, -122.40139 37...  \n",
       "16192        12          5  LINESTRING (-122.40355 37.78756, -122.40344 37...  "
      ],
      "text/html": "<div>\n<style scoped>\n    .dataframe tbody tr th:only-of-type {\n        vertical-align: middle;\n    }\n\n    .dataframe tbody tr th {\n        vertical-align: top;\n    }\n\n    .dataframe thead th {\n        text-align: right;\n    }\n</style>\n<table border=\"1\" class=\"dataframe\">\n  <thead>\n    <tr style=\"text-align: right;\">\n      <th></th>\n      <th>route_id</th>\n      <th>route_name</th>\n      <th>dir_id</th>\n      <th>segment_id</th>\n      <th>window</th>\n      <th>frequency</th>\n      <th>ntrips</th>\n      <th>s_st_id</th>\n      <th>s_st_name</th>\n      <th>e_st_name</th>\n      <th>max_freq</th>\n      <th>max_trips</th>\n      <th>geometry</th>\n    </tr>\n  </thead>\n  <tbody>\n    <tr>\n      <th>6237</th>\n      <td>16535</td>\n      <td>24 DIVISADERO</td>\n      <td>Outbound</td>\n      <td>4408-4409</td>\n      <td>0:00-6:00</td>\n      <td>360</td>\n      <td>1</td>\n      <td>4408</td>\n      <td>Divisadero St &amp; Bush St</td>\n      <td>Divisadero St &amp; California St</td>\n      <td>10</td>\n      <td>6</td>\n      <td>LINESTRING (-122.44009 37.78626, -122.44026 37...</td>\n    </tr>\n    <tr>\n      <th>27042</th>\n      <td>ALL_LINES</td>\n      <td>All lines</td>\n      <td>NA</td>\n      <td>7980-7981</td>\n      <td>0:00-6:00</td>\n      <td>360</td>\n      <td>1</td>\n      <td>7980</td>\n      <td>Moscow St t &amp; Italy Ave</td>\n      <td>Moscow St &amp; France Ave</td>\n      <td>20</td>\n      <td>18</td>\n      <td>LINESTRING (-122.43238 37.71498, -122.43234 37...</td>\n    </tr>\n    <tr>\n      <th>27076</th>\n      <td>ALL_LINES</td>\n      <td>All lines</td>\n      <td>NA</td>\n      <td>7982-6084</td>\n      <td>0:00-6:00</td>\n      <td>360</td>\n      <td>1</td>\n      <td>7982</td>\n      <td>Moscow St &amp; RussiaAvet</td>\n      <td>Prague St &amp; Russia Ave</td>\n      <td>20</td>\n      <td>18</td>\n      <td>LINESTRING (-122.42992 37.71812, -122.42918 37...</td>\n    </tr>\n    <tr>\n      <th>16186</th>\n      <td>16600</td>\n      <td>LBUS TARAVAL BUS</td>\n      <td>Inbound</td>\n      <td>5639-5678</td>\n      <td>0:00-6:00</td>\n      <td>360</td>\n      <td>1</td>\n      <td>5639</td>\n      <td>Market St &amp; 2nd St</td>\n      <td>Market St &amp; Kearny St</td>\n      <td>12</td>\n      <td>5</td>\n      <td>LINESTRING (-122.40130 37.78934, -122.40139 37...</td>\n    </tr>\n    <tr>\n      <th>16192</th>\n      <td>16600</td>\n      <td>LBUS TARAVAL BUS</td>\n      <td>Outbound</td>\n      <td>5640-5685</td>\n      <td>0:00-6:00</td>\n      <td>360</td>\n      <td>1</td>\n      <td>5640</td>\n      <td>Market St &amp; 3rd St</td>\n      <td>Market St &amp; New Montgomery St</td>\n      <td>12</td>\n      <td>5</td>\n      <td>LINESTRING (-122.40355 37.78756, -122.40344 37...</td>\n    </tr>\n  </tbody>\n</table>\n</div>"
     },
     "metadata": {},
     "execution_count": 10
    }
   ],
   "source": [
    "cutoffs = [0,6,9,15,19,22,24]\n",
    "seg_freq = gtfs.segments_freq(segments_gdf, stop_times, routes, cutoffs = cutoffs)\n",
    "seg_freq.head()"
   ]
  },
  {
   "source": [
    "The output for one specific segments, direction, and time of day shows"
   ],
   "cell_type": "markdown",
   "metadata": {}
  },
  {
   "cell_type": "code",
   "execution_count": 11,
   "metadata": {},
   "outputs": [
    {
     "output_type": "execute_result",
     "data": {
      "text/plain": [
       "        route_id           route_name    dir_id segment_id     window  \\\n",
       "12216      16559    45 UNION-STOCKTON   Inbound  3114-3144  0:00-6:00   \n",
       "8596       16541          30 STOCKTON   Inbound  3114-3144  0:00-6:00   \n",
       "15109      16581  91 3RD-19TH AVE OWL  Outbound  3114-3144  0:00-6:00   \n",
       "18894  ALL_LINES            All lines        NA  3114-3144  0:00-6:00   \n",
       "\n",
       "       frequency  ntrips s_st_id            s_st_name           e_st_name  \\\n",
       "12216        120       3    3114  3rd St & Brannan St  3rd St & Bryant St   \n",
       "8596          40       9    3114  3rd St & Brannan St  3rd St & Bryant St   \n",
       "15109         30      12    3114  3rd St & Brannan St  3rd St & Bryant St   \n",
       "18894         15      24    3114  3rd St & Brannan St  3rd St & Bryant St   \n",
       "\n",
       "       max_freq  max_trips                                           geometry  \n",
       "12216        12          5  LINESTRING (-122.39323 37.77923, -122.39431 37...  \n",
       "8596          6         10  LINESTRING (-122.39323 37.77923, -122.39431 37...  \n",
       "15109        30          2  LINESTRING (-122.39323 37.77923, -122.39431 37...  \n",
       "18894         4         90  LINESTRING (-122.39323 37.77923, -122.39431 37...  "
      ],
      "text/html": "<div>\n<style scoped>\n    .dataframe tbody tr th:only-of-type {\n        vertical-align: middle;\n    }\n\n    .dataframe tbody tr th {\n        vertical-align: top;\n    }\n\n    .dataframe thead th {\n        text-align: right;\n    }\n</style>\n<table border=\"1\" class=\"dataframe\">\n  <thead>\n    <tr style=\"text-align: right;\">\n      <th></th>\n      <th>route_id</th>\n      <th>route_name</th>\n      <th>dir_id</th>\n      <th>segment_id</th>\n      <th>window</th>\n      <th>frequency</th>\n      <th>ntrips</th>\n      <th>s_st_id</th>\n      <th>s_st_name</th>\n      <th>e_st_name</th>\n      <th>max_freq</th>\n      <th>max_trips</th>\n      <th>geometry</th>\n    </tr>\n  </thead>\n  <tbody>\n    <tr>\n      <th>12216</th>\n      <td>16559</td>\n      <td>45 UNION-STOCKTON</td>\n      <td>Inbound</td>\n      <td>3114-3144</td>\n      <td>0:00-6:00</td>\n      <td>120</td>\n      <td>3</td>\n      <td>3114</td>\n      <td>3rd St &amp; Brannan St</td>\n      <td>3rd St &amp; Bryant St</td>\n      <td>12</td>\n      <td>5</td>\n      <td>LINESTRING (-122.39323 37.77923, -122.39431 37...</td>\n    </tr>\n    <tr>\n      <th>8596</th>\n      <td>16541</td>\n      <td>30 STOCKTON</td>\n      <td>Inbound</td>\n      <td>3114-3144</td>\n      <td>0:00-6:00</td>\n      <td>40</td>\n      <td>9</td>\n      <td>3114</td>\n      <td>3rd St &amp; Brannan St</td>\n      <td>3rd St &amp; Bryant St</td>\n      <td>6</td>\n      <td>10</td>\n      <td>LINESTRING (-122.39323 37.77923, -122.39431 37...</td>\n    </tr>\n    <tr>\n      <th>15109</th>\n      <td>16581</td>\n      <td>91 3RD-19TH AVE OWL</td>\n      <td>Outbound</td>\n      <td>3114-3144</td>\n      <td>0:00-6:00</td>\n      <td>30</td>\n      <td>12</td>\n      <td>3114</td>\n      <td>3rd St &amp; Brannan St</td>\n      <td>3rd St &amp; Bryant St</td>\n      <td>30</td>\n      <td>2</td>\n      <td>LINESTRING (-122.39323 37.77923, -122.39431 37...</td>\n    </tr>\n    <tr>\n      <th>18894</th>\n      <td>ALL_LINES</td>\n      <td>All lines</td>\n      <td>NA</td>\n      <td>3114-3144</td>\n      <td>0:00-6:00</td>\n      <td>15</td>\n      <td>24</td>\n      <td>3114</td>\n      <td>3rd St &amp; Brannan St</td>\n      <td>3rd St &amp; Bryant St</td>\n      <td>4</td>\n      <td>90</td>\n      <td>LINESTRING (-122.39323 37.77923, -122.39431 37...</td>\n    </tr>\n  </tbody>\n</table>\n</div>"
     },
     "metadata": {},
     "execution_count": 11
    }
   ],
   "source": [
    "seg_freq.loc[(seg_freq.segment_id=='3114-3144')&(seg_freq.window=='0:00-6:00')]"
   ]
  },
  {
   "cell_type": "code",
   "execution_count": 13,
   "metadata": {},
   "outputs": [
    {
     "output_type": "display_data",
     "data": {
      "text/plain": "KeplerGl(data={'data':         route_id        route_name    dir_id segment_id       window  \\\n6237       1653…",
      "application/vnd.jupyter.widget-view+json": {
       "version_major": 2,
       "version_minor": 0,
       "model_id": "defbbdfca15447688b4e7e4b6cea3649"
      }
     },
     "metadata": {}
    },
    {
     "output_type": "stream",
     "name": "stdout",
     "text": [
      "User Guide: https://docs.kepler.gl/docs/keplergl-jupyter\n"
     ]
    }
   ],
   "source": [
    "import keplergl as kp\n",
    "m = kp.KeplerGl(data=dict(data=seg_freq, name='Segment Frequency'), height=400)\n",
    "m"
   ]
  },
  {
   "cell_type": "code",
   "execution_count": null,
   "metadata": {},
   "outputs": [],
   "source": []
  }
 ]
}